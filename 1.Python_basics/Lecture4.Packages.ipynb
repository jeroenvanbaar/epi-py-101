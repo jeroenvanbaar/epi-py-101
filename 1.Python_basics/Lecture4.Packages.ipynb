{
 "cells": [
  {
   "cell_type": "code",
   "execution_count": null,
   "id": "7d01253a-1b9f-4a63-92fd-fe96c0b1f995",
   "metadata": {},
   "outputs": [],
   "source": []
  },
  {
   "cell_type": "code",
   "execution_count": null,
   "id": "239f5672-3dc0-4698-a0a1-0f38f214a342",
   "metadata": {},
   "outputs": [],
   "source": []
  },
  {
   "cell_type": "markdown",
   "id": "98562115-4018-4ba4-b457-fa2e8967988e",
   "metadata": {},
   "source": [
    "# 5. Special types for epidemiological data\n",
    "## Dates and times\n",
    "We use the ```datetime``` type to represent dates and times--essential for outbreak tracking, longitudinal cohort studies, etc."
   ]
  },
  {
   "cell_type": "code",
   "execution_count": null,
   "id": "09bc8ed4-68d2-4abb-897a-89ff9859470d",
   "metadata": {},
   "outputs": [],
   "source": [
    "import pandas as pd\n",
    "\n",
    "date_str = \"2023-01-01\"\n",
    "date = pd.to_datetime(date_str)\n",
    "\n",
    "print(date)                # 2023-01-01 00:00:00\n",
    "print(type(date))          # <class 'pandas._libs.tslibs.timestamps.Timestamp'>"
   ]
  }
 ],
 "metadata": {
  "kernelspec": {
   "display_name": "Python 3 (ipykernel)",
   "language": "python",
   "name": "python3"
  },
  "language_info": {
   "codemirror_mode": {
    "name": "ipython",
    "version": 3
   },
   "file_extension": ".py",
   "mimetype": "text/x-python",
   "name": "python",
   "nbconvert_exporter": "python",
   "pygments_lexer": "ipython3",
   "version": "3.13.2"
  }
 },
 "nbformat": 4,
 "nbformat_minor": 5
}
