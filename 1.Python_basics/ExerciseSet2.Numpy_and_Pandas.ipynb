{
 "cells": [
  {
   "cell_type": "markdown",
   "id": "97d9b4bd",
   "metadata": {},
   "source": [
    "# Exercise Set 2: Practicing Numpy and Pandas Basics\n",
    "This exercise should take approximately 30 minutes to complete. Work through each part and run the code blocks to test your understanding.\n",
    "We will cover:\n",
    "- Importing Numpy and Pandas\n",
    "- Creating Numpy arrays\n",
    "- Creating Pandas DataFrames manually\n",
    "- Basic filtering using datetime columns"
   ]
  },
  {
   "cell_type": "markdown",
   "id": "05d943ba",
   "metadata": {},
   "source": [
    "## 1. Import the Packages\n",
    "Import `numpy` as `np` and `pandas` as `pd`."
   ]
  },
  {
   "cell_type": "code",
   "execution_count": null,
   "id": "bfad1ae3",
   "metadata": {},
   "outputs": [],
   "source": [
    "# Your code here\n"
   ]
  },
  {
   "cell_type": "markdown",
   "id": "dd3ce309",
   "metadata": {},
   "source": [
    "## 2. Numpy Arrays"
   ]
  },
  {
   "cell_type": "markdown",
   "id": "431ae3c9-c267-4e80-9546-f48d340dcf8f",
   "metadata": {},
   "source": [
    "The Numpy function ```np.arange()``` creates a range of numbers. You define the range by providing the start and end point of the range. If you want, you can additionally indicate a step size. Example:"
   ]
  },
  {
   "cell_type": "code",
   "execution_count": null,
   "id": "0e4b9722-1113-478a-b63e-20e8a8b075ea",
   "metadata": {},
   "outputs": [],
   "source": [
    "print(np.arange(1,4))\n",
    "# Running np.arange with arguments 1 and 4 creates a list of numbers between 1 and 4, not including the 4."
   ]
  },
  {
   "cell_type": "markdown",
   "id": "eb0eb695-5fe4-4def-989e-9f3b0ae87bea",
   "metadata": {},
   "source": [
    "Exercise: create a 1D array of the numbers 1 through 10 using `np.arange()`. Then create a 2D array (3x3) with random integers between 0 and 100 using `np.random.randint()`."
   ]
  },
  {
   "cell_type": "code",
   "execution_count": null,
   "id": "c98572e5",
   "metadata": {},
   "outputs": [],
   "source": [
    "# Your code here\n"
   ]
  },
  {
   "cell_type": "markdown",
   "id": "36f8bb04",
   "metadata": {},
   "source": [
    "## 3. Create a Pandas DataFrame\n",
    "Use a dictionary to create a DataFrame with the following columns:\n",
    "- `id`: a list of integers from 1 to 5\n",
    "- `name`: a list of any 5 names\n",
    "- `report_date`: a list of 5 different date strings (e.g., '2023-01-01')\n",
    "- `random_person_id`: a list of 5 random integers between 1 and 100, where no two are the same. Hint: use `np.random.choice()` to select 5 choices from a list of numbers from 1 to 100, which you have now learned to create."
   ]
  },
  {
   "cell_type": "code",
   "execution_count": null,
   "id": "0b237314",
   "metadata": {},
   "outputs": [],
   "source": [
    "# Your code here\n"
   ]
  },
  {
   "cell_type": "markdown",
   "id": "eff8dcf1",
   "metadata": {},
   "source": [
    "## 4. Convert to Datetime\n",
    "Convert the `report_date` column to `datetime` format using `pd.to_datetime()`."
   ]
  },
  {
   "cell_type": "code",
   "execution_count": null,
   "id": "5ce41559",
   "metadata": {},
   "outputs": [],
   "source": []
  },
  {
   "cell_type": "markdown",
   "id": "e65caff5",
   "metadata": {},
   "source": [
    "## 5. Filtering\n",
    "Filter the DataFrame to show only rows where `report_date` is after '2023-01-03'."
   ]
  },
  {
   "cell_type": "code",
   "execution_count": null,
   "id": "08450979",
   "metadata": {},
   "outputs": [],
   "source": []
  },
  {
   "cell_type": "markdown",
   "id": "8ea49d2b-02b7-44c4-8838-fa91dcb4b671",
   "metadata": {},
   "source": [
    "Filter the DataFrame by either name or random_person_id to only view the data for one person"
   ]
  },
  {
   "cell_type": "code",
   "execution_count": null,
   "id": "656f5c90-0af0-4bb7-b9a4-d5e5a9debc75",
   "metadata": {},
   "outputs": [],
   "source": []
  },
  {
   "cell_type": "code",
   "execution_count": null,
   "id": "d98d2523-4cf4-43f6-9655-dae94d2fa4e6",
   "metadata": {},
   "outputs": [],
   "source": []
  }
 ],
 "metadata": {
  "kernelspec": {
   "display_name": "Python 3 (ipykernel)",
   "language": "python",
   "name": "python3"
  },
  "language_info": {
   "codemirror_mode": {
    "name": "ipython",
    "version": 3
   },
   "file_extension": ".py",
   "mimetype": "text/x-python",
   "name": "python",
   "nbconvert_exporter": "python",
   "pygments_lexer": "ipython3",
   "version": "3.13.2"
  }
 },
 "nbformat": 4,
 "nbformat_minor": 5
}
