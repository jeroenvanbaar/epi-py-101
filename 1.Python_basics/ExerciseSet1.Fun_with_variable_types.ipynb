{
 "cells": [
  {
   "cell_type": "markdown",
   "id": "1444038c-f32b-44b1-bcaa-7cb88bc0afc0",
   "metadata": {},
   "source": [
    "# 🧠 Exercise set: Variable Types in Python\n",
    "Practice working with different Python data types using epidemiological examples.\n",
    "Estimated time: 20-30 minutes depending on experience."
   ]
  },
  {
   "cell_type": "markdown",
   "id": "52501225-b509-4c71-87df-2325e28f5ed2",
   "metadata": {},
   "source": [
    "## 1. Basic Variable Assignments\n",
    "Today, North Hospital received one hundred and forty-two new patients with a coronavirus infection. Their average body temperature was 103 F."
   ]
  },
  {
   "cell_type": "code",
   "execution_count": null,
   "id": "08ea3848-fb48-44b4-bb54-ad446cf6051f",
   "metadata": {},
   "outputs": [],
   "source": [
    "# 1.1 Assign an integer: the number of new cases today\n",
    "new_cases = ___\n",
    "\n",
    "# 1.2 Assign a float: the average body temperature of patients\n",
    "avg_temp = ___\n",
    "# Convert from Fahrenheit to Celsius (Google the conversion):\n",
    "avg_temp_in_celsius = ___\n",
    "\n",
    "# 1.3 Assign a string: the name of a hospital\n",
    "hospital_name = ___"
   ]
  },
  {
   "cell_type": "markdown",
   "id": "5b69a945-424a-4063-b587-35f927b861b1",
   "metadata": {},
   "source": [
    "In this hospital, we speak of an outbreak if the number of new cases in a day exceeds 120. Compute a boolean variable that is True if there is an outbreak and False if not."
   ]
  },
  {
   "cell_type": "code",
   "execution_count": 2,
   "id": "9958431f-fc07-412e-82ba-715a2195cc4f",
   "metadata": {},
   "outputs": [],
   "source": [
    "# 1.4 Assign a boolean: whether the outbreak is currently active. Tip: use a logical operator. Print the result.\n",
    "outbreak_active = ___"
   ]
  },
  {
   "cell_type": "markdown",
   "id": "4ccbc59e-8fcf-4054-846d-670f825a787d",
   "metadata": {},
   "source": [
    "# 2. Check variable types"
   ]
  },
  {
   "cell_type": "markdown",
   "id": "e34568d2-3233-405e-a56e-ecd5cf847e32",
   "metadata": {},
   "source": [
    "Use the type() function to confirm the data types of your variables from Section 1."
   ]
  },
  {
   "cell_type": "code",
   "execution_count": null,
   "id": "72107e8f-0ae3-4245-9363-53301d5c9426",
   "metadata": {},
   "outputs": [],
   "source": [
    "# Example:\n",
    "# print(type(my_variable))\n",
    "\n",
    "# 2.1\n",
    "print(type(new_cases))\n",
    "\n",
    "# 2.2\n",
    "print(type(avg_temp))\n",
    "\n",
    "# 2.3\n",
    "# ...\n",
    "\n",
    "# 2.4\n",
    "# ..."
   ]
  },
  {
   "cell_type": "markdown",
   "id": "de458315-fa8e-4d7c-b12f-b36f58cb84ea",
   "metadata": {},
   "source": [
    "# 3. Type conversion\n",
    "Sometimes values arrive as strings but should be numbers. Fix them."
   ]
  },
  {
   "cell_type": "code",
   "execution_count": null,
   "id": "2a800bb4-19e0-45ff-838e-d73abc34f1d7",
   "metadata": {},
   "outputs": [],
   "source": [
    "# These values are read in as strings:\n",
    "reported_cases = \"38\"\n",
    "fatality_rate = \"0.015\"\n",
    "\n",
    "# 3.1 Convert reported_cases to an integer\n",
    "reported_cases = ___\n",
    "\n",
    "# 3.2 Convert fatality_rate to a float\n",
    "fatality_rate = ___\n",
    "\n",
    "# 3.3 Calculate expected deaths (multiply cases by fatality rate)\n",
    "expected_deaths = ___\n",
    "print(\"Expected deaths:\", expected_deaths)"
   ]
  },
  {
   "cell_type": "markdown",
   "id": "d2d68e4d-c3a1-45ab-a7c6-00b579efb3d3",
   "metadata": {},
   "source": [
    "# 4. Booleans\n",
    "Booleans help us track conditions in outbreak scenarios."
   ]
  },
  {
   "cell_type": "code",
   "execution_count": null,
   "id": "2db86e4d-7279-45b0-842c-2d707a42b681",
   "metadata": {},
   "outputs": [],
   "source": [
    "# 4.1 Was the positivity rate over 10%?\n",
    "positivity_rate = 0.12\n",
    "is_high = ___  # should be True or False\n",
    "\n",
    "# 4.2 Did more than 50 cases occur AND was the outbreak active?\n",
    "daily_cases = 53\n",
    "outbreak_active = True\n",
    "issue_alert = ___"
   ]
  },
  {
   "cell_type": "markdown",
   "id": "c55a2eee-ad32-4425-906a-ff961096d060",
   "metadata": {},
   "source": [
    "# 5. Lists and indexing\n",
    "Lists let us store multiple values like daily cases."
   ]
  },
  {
   "cell_type": "code",
   "execution_count": null,
   "id": "ac80e457-88d8-407f-9626-c495bf6238f6",
   "metadata": {},
   "outputs": [],
   "source": [
    "# 5.1 Create a list of daily cases over 7 days\n",
    "weekly_cases = [12, 18, 25, 33, 27, 15, 20]\n",
    "\n",
    "# 5.2 Print the number of cases on the first day\n",
    "print(weekly_cases[___])\n",
    "\n",
    "# 5.3 Print the number of cases on the last day (Hint: use negative indexing! see https://www.geeksforgeeks.org/what-is-negative-indexing-in-python/)\n",
    "print(weekly_cases[___])\n",
    "\n",
    "# 5.4 Calculate the average number of cases per day (Hint: use sum() and len(). If you don't know what these functions do, google is your friend :) )\n",
    "average_cases = ___\n",
    "print(\"Average:\", average_cases)"
   ]
  },
  {
   "cell_type": "markdown",
   "id": "8dd715cb-1ba6-4aea-9b1d-55b14f6550ec",
   "metadata": {},
   "source": [
    "# 6. Dictionaries\n",
    "Dictionaries are useful to map keys (e.g. region names) to values (e.g. case counts)."
   ]
  },
  {
   "cell_type": "code",
   "execution_count": null,
   "id": "097b4a2d-c976-4657-a627-c19ed723ef66",
   "metadata": {},
   "outputs": [],
   "source": [
    "# 6.1 Create a dictionary of total cases by region\n",
    "cases_by_region = {\n",
    "    \"North\": 122,\n",
    "    \"South\": 95,\n",
    "    \"East\": 134,\n",
    "    \"West\": 101\n",
    "}\n",
    "\n",
    "# 6.2 Print the number of cases in the East\n",
    "print(cases_by_region[___])\n",
    "\n",
    "# 6.3 Add a new region: Central with 88 cases\n",
    "cases_by_region[___] = ___\n",
    "\n",
    "# 6.4 Print the entire dictionary\n",
    "print(cases_by_region)"
   ]
  },
  {
   "cell_type": "markdown",
   "id": "d1a985fa-bf0d-4df3-8bc2-3fcfbe5d665e",
   "metadata": {},
   "source": [
    "# Bonus.\n",
    "Finished and hungry for more? Try modifying any section using your own example. For instance, look up total Covid-19 cases in 2020 for 4 U.S. states and combine the data in a dictionary."
   ]
  }
 ],
 "metadata": {
  "kernelspec": {
   "display_name": "Python 3 (ipykernel)",
   "language": "python",
   "name": "python3"
  },
  "language_info": {
   "codemirror_mode": {
    "name": "ipython",
    "version": 3
   },
   "file_extension": ".py",
   "mimetype": "text/x-python",
   "name": "python",
   "nbconvert_exporter": "python",
   "pygments_lexer": "ipython3",
   "version": "3.13.2"
  }
 },
 "nbformat": 4,
 "nbformat_minor": 5
}
