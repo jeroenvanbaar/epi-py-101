{
 "cells": [
  {
   "cell_type": "markdown",
   "id": "97d9b4bd",
   "metadata": {},
   "source": [
    "# Exercise Set 2: Practicing Numpy and Pandas Basics\n",
    "This exercise should take approximately 30 minutes to complete. Work through each part and run the code blocks to test your understanding.\n",
    "We will cover:\n",
    "- Importing Numpy and Pandas\n",
    "- Creating Numpy arrays\n",
    "- Creating Pandas DataFrames manually\n",
    "- Basic filtering using datetime columns"
   ]
  },
  {
   "cell_type": "markdown",
   "id": "05d943ba",
   "metadata": {},
   "source": [
    "## 1. Import the Packages\n",
    "Import `numpy` as `np` and `pandas` as `pd`."
   ]
  },
  {
   "cell_type": "code",
   "execution_count": 11,
   "id": "bfad1ae3",
   "metadata": {},
   "outputs": [],
   "source": [
    "# Your code here\n",
    "import numpy as np\n",
    "import pandas as pd"
   ]
  },
  {
   "cell_type": "markdown",
   "id": "dd3ce309",
   "metadata": {},
   "source": [
    "## 2. Numpy Arrays"
   ]
  },
  {
   "cell_type": "markdown",
   "id": "431ae3c9-c267-4e80-9546-f48d340dcf8f",
   "metadata": {},
   "source": [
    "The Numpy function ```np.arange()``` creates a range of numbers. You define the range by providing the start and end point of the range. If you want, you can additionally indicate a step size. Example:"
   ]
  },
  {
   "cell_type": "code",
   "execution_count": 12,
   "id": "0e4b9722-1113-478a-b63e-20e8a8b075ea",
   "metadata": {},
   "outputs": [
    {
     "name": "stdout",
     "output_type": "stream",
     "text": [
      "[1 2 3]\n"
     ]
    }
   ],
   "source": [
    "print(np.arange(1,4))\n",
    "# Running np.arange with arguments 1 and 4 creates a list of numbers between 1 and 4, not including the 4."
   ]
  },
  {
   "cell_type": "markdown",
   "id": "eb0eb695-5fe4-4def-989e-9f3b0ae87bea",
   "metadata": {},
   "source": [
    "Exercise: create a 1D array of the numbers 1 through 10 using `np.arange()`. Then create a 2D array (3x3) with random integers between 0 and 100 using `np.random.randint()`."
   ]
  },
  {
   "cell_type": "code",
   "execution_count": 13,
   "id": "c98572e5",
   "metadata": {},
   "outputs": [
    {
     "data": {
      "text/plain": [
       "(array([ 1,  2,  3,  4,  5,  6,  7,  8,  9, 10]),\n",
       " array([[48, 61, 89],\n",
       "        [ 3, 30, 55],\n",
       "        [79,  7, 83]]))"
      ]
     },
     "execution_count": 13,
     "metadata": {},
     "output_type": "execute_result"
    }
   ],
   "source": [
    "# Your code here\n",
    "array_1d = np.arange(1, 11)\n",
    "array_2d = np.random.randint(0, 100, (3, 3))\n",
    "array_1d, array_2d"
   ]
  },
  {
   "cell_type": "markdown",
   "id": "36f8bb04",
   "metadata": {},
   "source": [
    "## 3. Create a Pandas DataFrame\n",
    "Use a dictionary to create a DataFrame with the following columns:\n",
    "- `id`: a list of integers from 1 to 5\n",
    "- `name`: a list of any 5 names\n",
    "- `report_date`: a list of 5 different date strings (e.g., '2023-01-01')\n",
    "- `random_person_id`: a list of 5 random integers between 1 and 100, where no two are the same. Hint: use `np.random.choice()` to select 5 choices from a list of numbers from 1 to 100, which you have now learned to create."
   ]
  },
  {
   "cell_type": "code",
   "execution_count": 14,
   "id": "0b237314",
   "metadata": {},
   "outputs": [
    {
     "data": {
      "text/html": [
       "<div>\n",
       "<style scoped>\n",
       "    .dataframe tbody tr th:only-of-type {\n",
       "        vertical-align: middle;\n",
       "    }\n",
       "\n",
       "    .dataframe tbody tr th {\n",
       "        vertical-align: top;\n",
       "    }\n",
       "\n",
       "    .dataframe thead th {\n",
       "        text-align: right;\n",
       "    }\n",
       "</style>\n",
       "<table border=\"1\" class=\"dataframe\">\n",
       "  <thead>\n",
       "    <tr style=\"text-align: right;\">\n",
       "      <th></th>\n",
       "      <th>id</th>\n",
       "      <th>name</th>\n",
       "      <th>report_date</th>\n",
       "      <th>random_person_id</th>\n",
       "    </tr>\n",
       "  </thead>\n",
       "  <tbody>\n",
       "    <tr>\n",
       "      <th>0</th>\n",
       "      <td>1</td>\n",
       "      <td>Alice</td>\n",
       "      <td>2023-01-01</td>\n",
       "      <td>22</td>\n",
       "    </tr>\n",
       "    <tr>\n",
       "      <th>1</th>\n",
       "      <td>2</td>\n",
       "      <td>Bob</td>\n",
       "      <td>2023-01-02</td>\n",
       "      <td>81</td>\n",
       "    </tr>\n",
       "    <tr>\n",
       "      <th>2</th>\n",
       "      <td>3</td>\n",
       "      <td>Carla</td>\n",
       "      <td>2023-01-03</td>\n",
       "      <td>52</td>\n",
       "    </tr>\n",
       "    <tr>\n",
       "      <th>3</th>\n",
       "      <td>4</td>\n",
       "      <td>David</td>\n",
       "      <td>2023-01-05</td>\n",
       "      <td>97</td>\n",
       "    </tr>\n",
       "    <tr>\n",
       "      <th>4</th>\n",
       "      <td>5</td>\n",
       "      <td>Eli</td>\n",
       "      <td>2023-01-08</td>\n",
       "      <td>42</td>\n",
       "    </tr>\n",
       "  </tbody>\n",
       "</table>\n",
       "</div>"
      ],
      "text/plain": [
       "   id   name report_date  random_person_id\n",
       "0   1  Alice  2023-01-01                22\n",
       "1   2    Bob  2023-01-02                81\n",
       "2   3  Carla  2023-01-03                52\n",
       "3   4  David  2023-01-05                97\n",
       "4   5    Eli  2023-01-08                42"
      ]
     },
     "execution_count": 14,
     "metadata": {},
     "output_type": "execute_result"
    }
   ],
   "source": [
    "# Your code here\n",
    "data = {\n",
    "    'id': [1, 2, 3, 4, 5],\n",
    "    'name': ['Alice', 'Bob', 'Carla', 'David', 'Eli'],\n",
    "    'report_date': ['2023-01-01', '2023-01-02', '2023-01-03', '2023-01-05', '2023-01-08'],\n",
    "    'random_person_id': np.random.choice(np.arange(1,100),5)\n",
    "}\n",
    "df = pd.DataFrame(data)\n",
    "df"
   ]
  },
  {
   "cell_type": "markdown",
   "id": "eff8dcf1",
   "metadata": {},
   "source": [
    "## 4. Convert to Datetime\n",
    "Convert the `report_date` column to `datetime` format using `pd.to_datetime()`."
   ]
  },
  {
   "cell_type": "code",
   "execution_count": 15,
   "id": "5ce41559",
   "metadata": {},
   "outputs": [
    {
     "data": {
      "text/plain": [
       "id                           int64\n",
       "name                        object\n",
       "report_date         datetime64[ns]\n",
       "random_person_id             int64\n",
       "dtype: object"
      ]
     },
     "execution_count": 15,
     "metadata": {},
     "output_type": "execute_result"
    }
   ],
   "source": [
    "df['report_date'] = pd.to_datetime(df['report_date'])\n",
    "df.dtypes"
   ]
  },
  {
   "cell_type": "markdown",
   "id": "e65caff5",
   "metadata": {},
   "source": [
    "## 5. Filtering\n",
    "Filter the DataFrame to show only rows where `report_date` is after '2023-01-03'."
   ]
  },
  {
   "cell_type": "code",
   "execution_count": 16,
   "id": "08450979",
   "metadata": {},
   "outputs": [
    {
     "data": {
      "text/html": [
       "<div>\n",
       "<style scoped>\n",
       "    .dataframe tbody tr th:only-of-type {\n",
       "        vertical-align: middle;\n",
       "    }\n",
       "\n",
       "    .dataframe tbody tr th {\n",
       "        vertical-align: top;\n",
       "    }\n",
       "\n",
       "    .dataframe thead th {\n",
       "        text-align: right;\n",
       "    }\n",
       "</style>\n",
       "<table border=\"1\" class=\"dataframe\">\n",
       "  <thead>\n",
       "    <tr style=\"text-align: right;\">\n",
       "      <th></th>\n",
       "      <th>id</th>\n",
       "      <th>name</th>\n",
       "      <th>report_date</th>\n",
       "      <th>random_person_id</th>\n",
       "    </tr>\n",
       "  </thead>\n",
       "  <tbody>\n",
       "    <tr>\n",
       "      <th>3</th>\n",
       "      <td>4</td>\n",
       "      <td>David</td>\n",
       "      <td>2023-01-05</td>\n",
       "      <td>97</td>\n",
       "    </tr>\n",
       "    <tr>\n",
       "      <th>4</th>\n",
       "      <td>5</td>\n",
       "      <td>Eli</td>\n",
       "      <td>2023-01-08</td>\n",
       "      <td>42</td>\n",
       "    </tr>\n",
       "  </tbody>\n",
       "</table>\n",
       "</div>"
      ],
      "text/plain": [
       "   id   name report_date  random_person_id\n",
       "3   4  David  2023-01-05                97\n",
       "4   5    Eli  2023-01-08                42"
      ]
     },
     "execution_count": 16,
     "metadata": {},
     "output_type": "execute_result"
    }
   ],
   "source": [
    "df[df['report_date'] > '2023-01-03']"
   ]
  },
  {
   "cell_type": "markdown",
   "id": "8ea49d2b-02b7-44c4-8838-fa91dcb4b671",
   "metadata": {},
   "source": [
    "Filter the DataFrame by either name or random_person_id to only view the data for one person"
   ]
  },
  {
   "cell_type": "code",
   "execution_count": 17,
   "id": "656f5c90-0af0-4bb7-b9a4-d5e5a9debc75",
   "metadata": {},
   "outputs": [
    {
     "data": {
      "text/html": [
       "<div>\n",
       "<style scoped>\n",
       "    .dataframe tbody tr th:only-of-type {\n",
       "        vertical-align: middle;\n",
       "    }\n",
       "\n",
       "    .dataframe tbody tr th {\n",
       "        vertical-align: top;\n",
       "    }\n",
       "\n",
       "    .dataframe thead th {\n",
       "        text-align: right;\n",
       "    }\n",
       "</style>\n",
       "<table border=\"1\" class=\"dataframe\">\n",
       "  <thead>\n",
       "    <tr style=\"text-align: right;\">\n",
       "      <th></th>\n",
       "      <th>id</th>\n",
       "      <th>name</th>\n",
       "      <th>report_date</th>\n",
       "      <th>random_person_id</th>\n",
       "    </tr>\n",
       "  </thead>\n",
       "  <tbody>\n",
       "    <tr>\n",
       "      <th>3</th>\n",
       "      <td>4</td>\n",
       "      <td>David</td>\n",
       "      <td>2023-01-05</td>\n",
       "      <td>97</td>\n",
       "    </tr>\n",
       "  </tbody>\n",
       "</table>\n",
       "</div>"
      ],
      "text/plain": [
       "   id   name report_date  random_person_id\n",
       "3   4  David  2023-01-05                97"
      ]
     },
     "execution_count": 17,
     "metadata": {},
     "output_type": "execute_result"
    }
   ],
   "source": [
    "df[df['name'] == 'David']"
   ]
  },
  {
   "cell_type": "code",
   "execution_count": 21,
   "id": "d98d2523-4cf4-43f6-9655-dae94d2fa4e6",
   "metadata": {},
   "outputs": [
    {
     "data": {
      "text/html": [
       "<div>\n",
       "<style scoped>\n",
       "    .dataframe tbody tr th:only-of-type {\n",
       "        vertical-align: middle;\n",
       "    }\n",
       "\n",
       "    .dataframe tbody tr th {\n",
       "        vertical-align: top;\n",
       "    }\n",
       "\n",
       "    .dataframe thead th {\n",
       "        text-align: right;\n",
       "    }\n",
       "</style>\n",
       "<table border=\"1\" class=\"dataframe\">\n",
       "  <thead>\n",
       "    <tr style=\"text-align: right;\">\n",
       "      <th></th>\n",
       "      <th>id</th>\n",
       "      <th>name</th>\n",
       "      <th>report_date</th>\n",
       "      <th>random_person_id</th>\n",
       "    </tr>\n",
       "  </thead>\n",
       "  <tbody>\n",
       "    <tr>\n",
       "      <th>0</th>\n",
       "      <td>1</td>\n",
       "      <td>Alice</td>\n",
       "      <td>2023-01-01</td>\n",
       "      <td>22</td>\n",
       "    </tr>\n",
       "  </tbody>\n",
       "</table>\n",
       "</div>"
      ],
      "text/plain": [
       "   id   name report_date  random_person_id\n",
       "0   1  Alice  2023-01-01                22"
      ]
     },
     "execution_count": 21,
     "metadata": {},
     "output_type": "execute_result"
    }
   ],
   "source": [
    "df[df['random_person_id'] == 22] # Make sure to use the double equals sign (==) here, as you're comparing values!"
   ]
  }
 ],
 "metadata": {
  "kernelspec": {
   "display_name": "Python 3 (ipykernel)",
   "language": "python",
   "name": "python3"
  },
  "language_info": {
   "codemirror_mode": {
    "name": "ipython",
    "version": 3
   },
   "file_extension": ".py",
   "mimetype": "text/x-python",
   "name": "python",
   "nbconvert_exporter": "python",
   "pygments_lexer": "ipython3",
   "version": "3.13.2"
  }
 },
 "nbformat": 4,
 "nbformat_minor": 5
}
