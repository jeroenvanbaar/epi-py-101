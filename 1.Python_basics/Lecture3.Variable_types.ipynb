{
 "cells": [
  {
   "cell_type": "markdown",
   "id": "274355ee-d2b9-48f8-9d56-dea88c18c310",
   "metadata": {},
   "source": [
    "# Learning Objectives\n",
    "By the end of this short lecture, you will:\n",
    "- Understand what variables are in Python and how to assign them\n",
    "- Learn about common data types, including collections of data\n",
    "- Practice checking and converting data types\n",
    "- Learn about looping over collections"
   ]
  },
  {
   "cell_type": "markdown",
   "id": "d7b0e768-9da4-44fa-beee-3b2467291262",
   "metadata": {},
   "source": [
    "# 1. What Is a Variable in Python?\n",
    "A variable is a name that stores a value. You use it to hold data like case counts, age, region, or date."
   ]
  },
  {
   "cell_type": "code",
   "execution_count": 1,
   "id": "0215cca8-860a-43df-9efe-09eafab2e25a",
   "metadata": {},
   "outputs": [],
   "source": [
    "cases_today = 14\n",
    "region = \"North\"\n",
    "test_positive = True"
   ]
  },
  {
   "cell_type": "markdown",
   "id": "be08bd2e-de6a-4429-b88f-31c3b5ba87e8",
   "metadata": {},
   "source": [
    "Each of these variables has a *type*."
   ]
  },
  {
   "cell_type": "markdown",
   "id": "5def6ea9-06ae-4c83-a9a9-a3d521327a12",
   "metadata": {},
   "source": [
    "# 2. Basic data types\n",
    "- int: integer (whole number). Examples: 14, 0, -3\n",
    "- float: decimal number. Examples: 3.14, 0.0, -10.5\n",
    "- str: string. Examples: \"North\", \"Covid-19\"\n",
    "- bool: boolean (true/false). Examples: True, False"
   ]
  },
  {
   "cell_type": "code",
   "execution_count": 2,
   "id": "90f14a6b-436b-474b-a8ff-13e2a7eb4aee",
   "metadata": {},
   "outputs": [],
   "source": [
    "age = 35               # int\n",
    "temperature = 98.6     # float\n",
    "disease = \"Influenza\"  # str\n",
    "hospitalized = False   # bool"
   ]
  },
  {
   "cell_type": "markdown",
   "id": "093d7b9c-392a-4a85-b811-2d3f2a97ae9a",
   "metadata": {},
   "source": [
    "# 3. Checking a variable's type\n",
    "Use ```type()``` to check the type. ```print()``` displays a result to the cell's output below."
   ]
  },
  {
   "cell_type": "code",
   "execution_count": 3,
   "id": "e9532950-73d5-4b2c-9985-37d425b1c076",
   "metadata": {},
   "outputs": [
    {
     "name": "stdout",
     "output_type": "stream",
     "text": [
      "<class 'int'>\n",
      "The type of variable disease is <class 'str'>\n"
     ]
    }
   ],
   "source": [
    "print(type(age))           # <class 'int'>\n",
    "print('The type of variable disease is %s'%(type(disease)))       # <class 'str'>"
   ]
  },
  {
   "cell_type": "markdown",
   "id": "09c10bac-ffac-482a-b968-bf5b87a8f58c",
   "metadata": {},
   "source": [
    "# 4. Type conversion\n",
    "Sometimes you need to convert a value from one type to another. For example, reading data from a CSV file may give you strings when you expect numbers."
   ]
  },
  {
   "cell_type": "code",
   "execution_count": 4,
   "id": "60c6e3cd-2164-4c46-8265-d469b275cd68",
   "metadata": {},
   "outputs": [
    {
     "name": "stdout",
     "output_type": "stream",
     "text": [
      "<class 'str'>\n",
      "<class 'int'>\n"
     ]
    }
   ],
   "source": [
    "age = \"45\"\n",
    "print(type(age))\n",
    "age = int(age)\n",
    "print(type(age)) # Now it's an integer"
   ]
  },
  {
   "cell_type": "markdown",
   "id": "0f3cf480-b18e-4266-9e0e-d5ab40fc31d1",
   "metadata": {},
   "source": [
    "The type of a variable has implications for what you can do with it:"
   ]
  },
  {
   "cell_type": "code",
   "execution_count": 5,
   "id": "e89e992f-5846-4e1a-b912-d70bb46c075a",
   "metadata": {},
   "outputs": [
    {
     "ename": "TypeError",
     "evalue": "can only concatenate str (not \"int\") to str",
     "output_type": "error",
     "traceback": [
      "\u001b[31m---------------------------------------------------------------------------\u001b[39m",
      "\u001b[31mTypeError\u001b[39m                                 Traceback (most recent call last)",
      "\u001b[36mCell\u001b[39m\u001b[36m \u001b[39m\u001b[32mIn[5]\u001b[39m\u001b[32m, line 2\u001b[39m\n\u001b[32m      1\u001b[39m temperature = \u001b[33m\"\u001b[39m\u001b[33m101.2\u001b[39m\u001b[33m\"\u001b[39m\n\u001b[32m----> \u001b[39m\u001b[32m2\u001b[39m \u001b[38;5;28mprint\u001b[39m(\u001b[43mtemperature\u001b[49m\u001b[43m \u001b[49m\u001b[43m+\u001b[49m\u001b[43m \u001b[49m\u001b[32;43m5\u001b[39;49m)\n",
      "\u001b[31mTypeError\u001b[39m: can only concatenate str (not \"int\") to str"
     ]
    }
   ],
   "source": [
    "temperature = \"101.2\"\n",
    "print(temperature + 5)"
   ]
  },
  {
   "cell_type": "code",
   "execution_count": 6,
   "id": "d08e5144-edc3-4c2d-911d-0a18ada7c3c6",
   "metadata": {},
   "outputs": [
    {
     "name": "stdout",
     "output_type": "stream",
     "text": [
      "106.2\n"
     ]
    }
   ],
   "source": [
    "temperature = float(temperature)\n",
    "print(temperature + 5)"
   ]
  },
  {
   "cell_type": "markdown",
   "id": "b52e880d-63dc-46de-af2f-7e2c5164ab3a",
   "metadata": {},
   "source": [
    "Tip: many errors have to do with the variable type of some data not matching the type expected by a function."
   ]
  },
  {
   "cell_type": "markdown",
   "id": "e7ca0ea0-025c-4759-a837-b788b4e51a47",
   "metadata": {},
   "source": [
    "# 5. Collections of data\n",
    "You'll often work with groups of data. In the next lecture we'll look at nicely formatted tables called 'dataframes'. But for now let's inspect lists and dictionaries."
   ]
  },
  {
   "cell_type": "markdown",
   "id": "9c98ee2c-7b4b-4533-9dfc-2b8e91d44c4c",
   "metadata": {},
   "source": [
    "In Python, you can join almost anything in a *lis*, which is defined by square brackets (spaces don't matter):"
   ]
  },
  {
   "cell_type": "code",
   "execution_count": 7,
   "id": "d5e35514-e3fc-4297-b4c5-ed517531c726",
   "metadata": {},
   "outputs": [
    {
     "name": "stdout",
     "output_type": "stream",
     "text": [
      "[3, 5, 7, 9, 11]\n"
     ]
    }
   ],
   "source": [
    "list_of_integers = [3, 5,7, 9,    11]\n",
    "print(list_of_integers)"
   ]
  },
  {
   "cell_type": "code",
   "execution_count": 8,
   "id": "3b405ae3-100b-44d1-b8d3-1c35e202b229",
   "metadata": {},
   "outputs": [
    {
     "name": "stdout",
     "output_type": "stream",
     "text": [
      "[3, 1.1, 'hi there']\n"
     ]
    }
   ],
   "source": [
    "list_with_different_types = [3, 1.1, 'hi there']\n",
    "print(list_with_different_types)"
   ]
  },
  {
   "cell_type": "markdown",
   "id": "19d21a74-ac30-4774-a2cf-eb7cf16cffc2",
   "metadata": {},
   "source": [
    "To access the content of a list, you *index* it with an integer. In Python, we start counting at zero."
   ]
  },
  {
   "cell_type": "code",
   "execution_count": 9,
   "id": "935d886f-f83d-4b40-a653-29f44b75d178",
   "metadata": {},
   "outputs": [
    {
     "name": "stdout",
     "output_type": "stream",
     "text": [
      "3\n",
      "hi there\n"
     ]
    }
   ],
   "source": [
    "print(list_with_different_types[0])\n",
    "print(list_with_different_types[2])"
   ]
  },
  {
   "cell_type": "code",
   "execution_count": 10,
   "id": "15b34a66-54d2-4f62-9c5e-5a6b42ede6b6",
   "metadata": {},
   "outputs": [
    {
     "name": "stdout",
     "output_type": "stream",
     "text": [
      "<class 'list'>\n",
      "<class 'str'>\n"
     ]
    }
   ],
   "source": [
    "# The list variable itself is of a different type than its contents!\n",
    "print(type(list_with_different_types))\n",
    "print(type(list_with_different_types[2]))"
   ]
  },
  {
   "cell_type": "markdown",
   "id": "0998fc94-0e41-4179-8f91-ce7e91bfa190",
   "metadata": {},
   "source": [
    "You can replace items in a list as needed:"
   ]
  },
  {
   "cell_type": "code",
   "execution_count": 11,
   "id": "c62ea3fc-2be6-49f5-8a53-d358e4524789",
   "metadata": {},
   "outputs": [
    {
     "name": "stdout",
     "output_type": "stream",
     "text": [
      "[3, 2.2, 'hi there']\n"
     ]
    }
   ],
   "source": [
    "list_with_different_types[1] = 2.2\n",
    "print(list_with_different_types)"
   ]
  },
  {
   "cell_type": "markdown",
   "id": "4231f062-752f-4b6e-87e4-7f248a989c02",
   "metadata": {},
   "source": [
    "To create a collection you CAN'T change, you can use a tuple, which is defined by round brackets:"
   ]
  },
  {
   "cell_type": "code",
   "execution_count": 13,
   "id": "ba56201a-34e2-4e41-bb2d-857b5f052318",
   "metadata": {},
   "outputs": [
    {
     "name": "stdout",
     "output_type": "stream",
     "text": [
      "<class 'tuple'>\n",
      "('welcome', 15, -3.1415)\n"
     ]
    }
   ],
   "source": [
    "my_tuple = ('welcome',15,-3.1415)\n",
    "print(type(my_tuple))\n",
    "print(my_tuple)"
   ]
  },
  {
   "cell_type": "markdown",
   "id": "b240f3c9-6a47-479a-8305-41806869208d",
   "metadata": {},
   "source": [
    "A final way to collect data is in a *dictionary*. This is like a list, except each entry has a name and a value. Dictionaries are defined by curly brackets:"
   ]
  },
  {
   "cell_type": "code",
   "execution_count": 24,
   "id": "7dcc2d26-f30c-4880-a096-6bf80115951c",
   "metadata": {},
   "outputs": [],
   "source": [
    "dictionary_millions = {'USA':340,\n",
    "                       'UK':68,\n",
    "                       'NL':18,\n",
    "                       'CA':40}"
   ]
  },
  {
   "cell_type": "markdown",
   "id": "3a8ab180-b733-4e5c-9f64-d4bb787853f7",
   "metadata": {},
   "source": [
    "Access dictionary values by name:"
   ]
  },
  {
   "cell_type": "code",
   "execution_count": 25,
   "id": "fb8aa311-ab8b-42b5-90af-110232cc0252",
   "metadata": {},
   "outputs": [
    {
     "name": "stdout",
     "output_type": "stream",
     "text": [
      "18\n"
     ]
    }
   ],
   "source": [
    "print(dictionary_millions['NL'])"
   ]
  },
  {
   "cell_type": "markdown",
   "id": "dddde9eb-4dfb-445c-9d76-1e444406c255",
   "metadata": {},
   "source": [
    "# 6. Advanced printing\n",
    "You can combine variable values in nicely formatted strings. Make sure to use the right variable format (string, integer, float, etc.)."
   ]
  },
  {
   "cell_type": "code",
   "execution_count": 26,
   "id": "d19d5e5a-fa41-4c52-bd70-d5272292cb6e",
   "metadata": {},
   "outputs": [
    {
     "name": "stdout",
     "output_type": "stream",
     "text": [
      "Hi, my name is Jeroen.\n"
     ]
    }
   ],
   "source": [
    "name = 'Jeroen'\n",
    "age = 35\n",
    "print('Hi, my name is %s.'%name)"
   ]
  },
  {
   "cell_type": "code",
   "execution_count": 27,
   "id": "f3fce9fb-d06e-48d7-b386-0f0fb126de38",
   "metadata": {},
   "outputs": [
    {
     "name": "stdout",
     "output_type": "stream",
     "text": [
      "Hi, my name is Jeroen and my age is 35\n"
     ]
    }
   ],
   "source": [
    "# To add multiple values in one string, collect them in a tuple:\n",
    "my_output_string = 'Hi, my name is %s and my age is %i'%(name, age)\n",
    "print(my_output_string)"
   ]
  },
  {
   "cell_type": "markdown",
   "id": "7f2b79b8-7f9b-46de-a46f-a60078c57596",
   "metadata": {},
   "source": [
    "# 7. Loops\n",
    "Once you have a collection of data in a list or dictionary, you can apply an operation to the elements one at a time in what's called a *for loop*. This is an essential tool in your programming toolkit."
   ]
  },
  {
   "cell_type": "code",
   "execution_count": 28,
   "id": "8ef6b59b-d856-4793-af80-74ca09c69a1f",
   "metadata": {},
   "outputs": [
    {
     "name": "stdout",
     "output_type": "stream",
     "text": [
      "5\n",
      "9\n",
      "13\n",
      "17\n",
      "21\n"
     ]
    }
   ],
   "source": [
    "for element in list_of_integers:\n",
    "    print(element * 2 - 1)"
   ]
  },
  {
   "cell_type": "markdown",
   "id": "c42ec691-e84a-4483-ae0a-92ca4fc61975",
   "metadata": {},
   "source": [
    "(Those of you familiar with for loops in R will agree that this looks very clean in Python.)"
   ]
  },
  {
   "cell_type": "markdown",
   "id": "1909df5e-fe87-4557-882a-cdd46c7d71b0",
   "metadata": {},
   "source": [
    "In dictionaries, you can loop over the names of the entries, and use those to get the entry values."
   ]
  },
  {
   "cell_type": "code",
   "execution_count": 29,
   "id": "255b6a8c-dc22-4f2d-b3f7-803300cadf3a",
   "metadata": {},
   "outputs": [
    {
     "name": "stdout",
     "output_type": "stream",
     "text": [
      "Country USA has a population of 340 million.\n",
      "Country UK has a population of 68 million.\n",
      "Country NL has a population of 18 million.\n",
      "Country CA has a population of 40 million.\n"
     ]
    }
   ],
   "source": [
    "for name in dictionary_millions:\n",
    "    print('Country %s has a population of %i million.'%(name,dictionary_millions[name]))"
   ]
  },
  {
   "cell_type": "markdown",
   "id": "9616a405-51b3-46e8-97ea-5c6a361d3862",
   "metadata": {},
   "source": [
    "# 8. Logical operators and if statements\n",
    "Another essential programming tool is the set of *logical operations* (also known as logical functions or boolean operators). These operators compare two values to each other. The result is a boolean variable (True or False)."
   ]
  },
  {
   "cell_type": "code",
   "execution_count": 38,
   "id": "858986d8-68bf-4eca-95a3-b9a88e42b033",
   "metadata": {},
   "outputs": [
    {
     "name": "stdout",
     "output_type": "stream",
     "text": [
      "True\n",
      "my name is CA\n",
      "Is my string longer than 5 characters? True\n"
     ]
    }
   ],
   "source": [
    "print(3 > 2)\n",
    "my_string = 'my name is %s'%name\n",
    "print(my_string)\n",
    "long_length_or_not = len(my_string) > 5\n",
    "print('Is my string longer than 5 characters?',long_length_or_not)"
   ]
  },
  {
   "cell_type": "markdown",
   "id": "49c9d94b-efed-4a05-a746-594c7659296d",
   "metadata": {},
   "source": [
    "You can use logical operators to selectively apply other operations to paticular cases, using an *if statement*. For instance:"
   ]
  },
  {
   "cell_type": "code",
   "execution_count": 36,
   "id": "f5edb6fa-d416-4dcf-a07f-0ffe4dfb29ed",
   "metadata": {},
   "outputs": [
    {
     "name": "stdout",
     "output_type": "stream",
     "text": [
      "USA\n",
      "UK\n",
      "Skipped one!\n",
      "CA\n"
     ]
    }
   ],
   "source": [
    "# print the country names of countries with more than 30 million population.\n",
    "for name in dictionary_millions:\n",
    "    if dictionary_millions[name] > 30:\n",
    "        print(name)\n",
    "    else:\n",
    "        print('Skipped one!')"
   ]
  },
  {
   "cell_type": "markdown",
   "id": "a8cd8092-4fac-4d5e-9439-387273d24bad",
   "metadata": {},
   "source": [
    "You can combine boolean operators using & (and) and | (or). When combining, remember to put each component in round brackets."
   ]
  },
  {
   "cell_type": "code",
   "execution_count": 40,
   "id": "c2249780-8328-483c-b154-5a9737ecae7f",
   "metadata": {},
   "outputs": [
    {
     "name": "stdout",
     "output_type": "stream",
     "text": [
      "True\n"
     ]
    }
   ],
   "source": [
    "temp_today = 95\n",
    "temp_yesterday = 93\n",
    "# If temperature is above 90 two days in a row, we speak of a heat wave\n",
    "heat_wave = (temp_today > 90) & (temp_yesterday > 90)\n",
    "print(heat_wave)"
   ]
  },
  {
   "cell_type": "code",
   "execution_count": null,
   "id": "05063501-862e-4e4d-9079-042ebc99a733",
   "metadata": {},
   "outputs": [],
   "source": []
  }
 ],
 "metadata": {
  "kernelspec": {
   "display_name": "Python 3 (ipykernel)",
   "language": "python",
   "name": "python3"
  },
  "language_info": {
   "codemirror_mode": {
    "name": "ipython",
    "version": 3
   },
   "file_extension": ".py",
   "mimetype": "text/x-python",
   "name": "python",
   "nbconvert_exporter": "python",
   "pygments_lexer": "ipython3",
   "version": "3.13.2"
  }
 },
 "nbformat": 4,
 "nbformat_minor": 5
}
