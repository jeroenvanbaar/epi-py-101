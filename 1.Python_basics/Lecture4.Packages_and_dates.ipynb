{
 "cells": [
  {
   "cell_type": "markdown",
   "id": "e24ccca4",
   "metadata": {},
   "source": [
    "# Lecture 4. Importing Packages, Pandas Basics, and Date Handling"
   ]
  },
  {
   "cell_type": "markdown",
   "id": "101b5a01",
   "metadata": {},
   "source": [
    "## Learning Objectives\n",
    "\n",
    "By the end of this lecture, you will:\n",
    "- Know how to import Python packages in Google Colab\n",
    "- Understand what a DataFrame is in Pandas\n",
    "- Learn how to create and inspect DataFrames\n",
    "- Understand how to work with the datetime format"
   ]
  },
  {
   "cell_type": "markdown",
   "id": "94805d49",
   "metadata": {},
   "source": [
    "## ✨ 1. Importing Packages in Google Colab\n",
    "In Google Colab, most common packages are pre-installed. You can import them into your notebook like this:"
   ]
  },
  {
   "cell_type": "code",
   "execution_count": 3,
   "id": "8aed0d79",
   "metadata": {},
   "outputs": [],
   "source": [
    "import numpy as np\n",
    "import pandas as pd"
   ]
  },
  {
   "cell_type": "code",
   "execution_count": 5,
   "id": "079530ae-8445-402c-a734-602a4c099945",
   "metadata": {},
   "outputs": [
    {
     "name": "stdout",
     "output_type": "stream",
     "text": [
      "[[5 2 7]\n",
      " [1 3 9]\n",
      " [5 9 9]\n",
      " [1 2 4]\n",
      " [4 4 2]]\n"
     ]
    },
    {
     "data": {
      "text/plain": [
       "numpy.ndarray"
      ]
     },
     "execution_count": 5,
     "metadata": {},
     "output_type": "execute_result"
    }
   ],
   "source": [
    "# Numpy illustration:\n",
    "my_random_numbers = np.random.randint(1,10,size=(5,3))\n",
    "print(my_random_numbers)\n",
    "type(my_random_numbers)"
   ]
  },
  {
   "cell_type": "markdown",
   "id": "7036c8e4",
   "metadata": {},
   "source": [
    "## 📃 2. What is a Pandas DataFrame?"
   ]
  },
  {
   "cell_type": "code",
   "execution_count": null,
   "id": "ebf5b93e",
   "metadata": {},
   "outputs": [],
   "source": [
    "data = {\n",
    "    'name': ['Alice', 'Bob', 'Carlos'],\n",
    "    'age': [34, 45, 29],\n",
    "    'diagnosis_date': ['2023-01-03', '2023-01-04', '2023-01-10']\n",
    "}\n",
    "\n",
    "# Convert to DataFrame\n",
    "patients = pd.DataFrame(data)\n",
    "patients"
   ]
  },
  {
   "cell_type": "markdown",
   "id": "ca661e68",
   "metadata": {},
   "source": [
    "## 🔍 3. Exploring a DataFrame"
   ]
  },
  {
   "cell_type": "code",
   "execution_count": null,
   "id": "3f3ae4ec",
   "metadata": {},
   "outputs": [],
   "source": [
    "# Show the first few rows\n",
    "patients.head()\n",
    "\n",
    "# Check the column names\n",
    "patients.columns\n",
    "\n",
    "# See data types\n",
    "patients.dtypes\n",
    "\n",
    "# Get a quick summary\n",
    "patients.describe(include='all')"
   ]
  },
  {
   "cell_type": "markdown",
   "id": "4f54d4ba",
   "metadata": {},
   "source": [
    "## 🕒 4. Working with Dates in Pandas"
   ]
  },
  {
   "cell_type": "code",
   "execution_count": null,
   "id": "6f64df50",
   "metadata": {},
   "outputs": [],
   "source": [
    "# Convert diagnosis_date to datetime format\n",
    "patients['diagnosis_date'] = pd.to_datetime(patients['diagnosis_date'])\n",
    "patients.dtypes"
   ]
  },
  {
   "cell_type": "code",
   "execution_count": null,
   "id": "b05de971",
   "metadata": {},
   "outputs": [],
   "source": [
    "# Extract the month\n",
    "patients['month'] = patients['diagnosis_date'].dt.month\n",
    "\n",
    "# Filter patients diagnosed after Jan 5th\n",
    "patients[patients['diagnosis_date'] > '2023-01-05']"
   ]
  },
  {
   "cell_type": "code",
   "execution_count": null,
   "id": "22325797",
   "metadata": {},
   "outputs": [],
   "source": [
    "# Count by date\n",
    "counts = patients['diagnosis_date'].value_counts().sort_index()\n",
    "\n",
    "# Plot\n",
    "plt.figure(figsize=(6,4))\n",
    "counts.plot(kind='bar')\n",
    "plt.title('Number of Diagnoses per Day')\n",
    "plt.ylabel('Count')\n",
    "plt.xticks(rotation=45)\n",
    "plt.tight_layout()\n",
    "plt.show()"
   ]
  },
  {
   "cell_type": "markdown",
   "id": "48794e97",
   "metadata": {},
   "source": [
    "## 🚀 Summary\n",
    "\n",
    "- Use `import` to load packages; install others with `!pip install`\n",
    "- Pandas DataFrames store tabular data\n",
    "- Use `pd.to_datetime()` to parse dates\n",
    "- Datetime columns allow time filtering and features like month extraction"
   ]
  },
  {
   "cell_type": "code",
   "execution_count": null,
   "id": "d5d6a59a-e3f7-4143-bb9f-e5672a261b3b",
   "metadata": {},
   "outputs": [],
   "source": []
  }
 ],
 "metadata": {
  "kernelspec": {
   "display_name": "Python 3 (ipykernel)",
   "language": "python",
   "name": "python3"
  },
  "language_info": {
   "codemirror_mode": {
    "name": "ipython",
    "version": 3
   },
   "file_extension": ".py",
   "mimetype": "text/x-python",
   "name": "python",
   "nbconvert_exporter": "python",
   "pygments_lexer": "ipython3",
   "version": "3.13.2"
  }
 },
 "nbformat": 4,
 "nbformat_minor": 5
}
