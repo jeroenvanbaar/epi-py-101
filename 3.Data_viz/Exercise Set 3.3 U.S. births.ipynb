{
 "cells": [
  {
   "cell_type": "markdown",
   "id": "76f93394-2ca0-4480-be77-7f4d797d85c0",
   "metadata": {},
   "source": [
    "# Exercise Set 3.3 - Births across U.S. states"
   ]
  },
  {
   "cell_type": "markdown",
   "id": "e9ac2886-2905-42a6-b869-9dff1844136d",
   "metadata": {},
   "source": [
    "Dear students, this exercise set is a bit different from the other ones. I will not provide specific exercises and instead will defer to your skills and intuitions as epidemiologists in Python. With the skills you learned in modules 1-3, you will be able to get far in the challenges below, if not complete them all. Good luck!"
   ]
  },
  {
   "cell_type": "markdown",
   "id": "484db5e5-c98c-4140-9b25-75cfeb34b349",
   "metadata": {},
   "source": [
    "### The dataset\n",
    "Please visit the CDC's \"Wonder\" webpage about natality data: https://wonder.cdc.gov/natality-current.html\n",
    "Read and agree with the user agreement. Then use the Request Form to request a data file that has info on:\n",
    "* All U.S. births between 2007 and 2023\n",
    "* Grouped by State, Year, Sex, and 2013 Metro/Nonmetro area\n",
    "* Make sure to include All years (section 4 of the form) and leave all other settings to All\n",
    "\n",
    "Once on the Results tab, click Export to download the data file. It will probably download as an .xls Excel file. You have two options:\n",
    "* Open the file in Excel or equivalent spreadsheet software and export it to CSV for loading in Python\n",
    "* Use the `pd.read_excel` function in Pandas to directly load the data file\n",
    "\n",
    "### The challenge\n",
    "* Clean the data file as needed, paying close attention to data types, column names, missing data, and duplicates.\n",
    "* Produce a line graph of total births per year from 2007 to 2023. Play around with splitting the graph by State and Metro/Nonmetro. What plot do you like best?\n",
    "* Produce a choropleth map of total births per state in the year 2023\n",
    "* Make another visualization of your own choosing and share it on the Canvas discussion board\n",
    "\n",
    "Good luck!"
   ]
  },
  {
   "cell_type": "code",
   "execution_count": null,
   "id": "4d8cd4b3-74d4-44f1-b5c1-097e4583af25",
   "metadata": {},
   "outputs": [],
   "source": []
  }
 ],
 "metadata": {
  "kernelspec": {
   "display_name": "Python 3 (ipykernel)",
   "language": "python",
   "name": "python3"
  },
  "language_info": {
   "codemirror_mode": {
    "name": "ipython",
    "version": 3
   },
   "file_extension": ".py",
   "mimetype": "text/x-python",
   "name": "python",
   "nbconvert_exporter": "python",
   "pygments_lexer": "ipython3",
   "version": "3.11.7"
  }
 },
 "nbformat": 4,
 "nbformat_minor": 5
}
