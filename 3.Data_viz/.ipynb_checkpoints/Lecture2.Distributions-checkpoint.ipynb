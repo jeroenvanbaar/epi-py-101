{
 "cells": [
  {
   "cell_type": "markdown",
   "id": "9d8909b4",
   "metadata": {},
   "source": [
    "# Lecture 2: Distributions and Frequencies"
   ]
  },
  {
   "cell_type": "markdown",
   "id": "cc2b103c",
   "metadata": {},
   "source": [
    "### Objectives\n",
    "- Understand different ways to visualize distributions\n",
    "- Use histograms, KDE plots, and ECDFs\n",
    "- Customize bin widths and scales"
   ]
  },
  {
   "cell_type": "code",
   "execution_count": null,
   "id": "92437100",
   "metadata": {},
   "outputs": [],
   "source": [
    "import pandas as pd\n",
    "import seaborn as sns\n",
    "import matplotlib.pyplot as plt\n",
    "\n",
    "sns.set(style=\"darkgrid\")\n",
    "tips = sns.load_dataset(\"tips\")"
   ]
  },
  {
   "cell_type": "markdown",
   "id": "9dda96e6",
   "metadata": {},
   "source": [
    "## Histogram"
   ]
  },
  {
   "cell_type": "code",
   "execution_count": null,
   "id": "c2f09409",
   "metadata": {},
   "outputs": [],
   "source": [
    "sns.histplot(tips[\"total_bill\"], bins=20, kde=False)\n",
    "plt.title(\"Histogram of Total Bill\")\n",
    "plt.xlabel(\"Total Bill\")\n",
    "plt.ylabel(\"Frequency\")\n",
    "plt.show()"
   ]
  },
  {
   "cell_type": "markdown",
   "id": "51e26a6b",
   "metadata": {},
   "source": [
    "## KDE Plot"
   ]
  },
  {
   "cell_type": "code",
   "execution_count": null,
   "id": "f3bb078a",
   "metadata": {},
   "outputs": [],
   "source": [
    "sns.kdeplot(data=tips, x=\"total_bill\", fill=True)\n",
    "plt.title(\"KDE Plot of Total Bill\")\n",
    "plt.show()"
   ]
  }
 ],
 "metadata": {},
 "nbformat": 4,
 "nbformat_minor": 5
}
