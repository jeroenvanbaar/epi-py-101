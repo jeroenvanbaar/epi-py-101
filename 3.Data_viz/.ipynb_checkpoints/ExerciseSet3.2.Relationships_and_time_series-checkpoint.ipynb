{
 "cells": [
  {
   "cell_type": "markdown",
   "id": "c24cdff2",
   "metadata": {},
   "source": [
    "# Exercise Set 2: Relationships and Time Series"
   ]
  },
  {
   "cell_type": "markdown",
   "id": "a0c2ae1b",
   "metadata": {},
   "source": [
    "### Estimated Time: 45 minutes\n",
    "\n",
    "In this exercise, you will:\n",
    "- Explore relationships between continuous variables (Lecture 4)\n",
    "- Work with time-like variables (Lecture 5)\n",
    "\n",
    "You’ll use the **Framingham dataset** and the **OHIE_12m dataset**, as well as simulated data."
   ]
  },
  {
   "cell_type": "code",
   "execution_count": null,
   "id": "bbae0260-2389-46f9-94c8-0f14fa3613c0",
   "metadata": {},
   "outputs": [],
   "source": [
    "# Import the required packages first:\n",
    "# Your code here"
   ]
  },
  {
   "cell_type": "markdown",
   "id": "b621cf76",
   "metadata": {},
   "source": [
    "## Part 1: Relationships Between Variables (Framingham)"
   ]
  },
  {
   "cell_type": "markdown",
   "id": "bf8fcec7-9be6-474e-adb9-654e35b18632",
   "metadata": {},
   "source": [
    "To do:\n",
    "* Load the Framingham dataset\n",
    "* Create a scatter plot between systolic and diastolic blood pressure\n",
    "* Add histograms for the data distributions on the margins using `sns.jointplot`\n",
    "* Add a trendline using `sns.regplot`\n",
    "* Split the trendline plot by smoking status (hue) and sex (columns) using `sns.lmplot`"
   ]
  },
  {
   "cell_type": "code",
   "execution_count": null,
   "id": "adf1e562",
   "metadata": {},
   "outputs": [],
   "source": [
    "# Your code here"
   ]
  },
  {
   "cell_type": "markdown",
   "id": "275269af",
   "metadata": {},
   "source": [
    "## Part 2: Time Series Logic Using OHIE_12m Dataset"
   ]
  },
  {
   "cell_type": "code",
   "execution_count": null,
   "id": "49e4f20e",
   "metadata": {},
   "outputs": [],
   "source": [
    "# Load the Oregon data as OHIE"
   ]
  },
  {
   "cell_type": "markdown",
   "id": "b38331ff",
   "metadata": {},
   "source": [
    "### 2.1 Create a derived datetime variable using lottery notification date"
   ]
  },
  {
   "cell_type": "markdown",
   "id": "e7090fdc-e239-4e05-97a1-ed56f11a670f",
   "metadata": {},
   "source": [
    "Use the provided code below to achieve this:"
   ]
  },
  {
   "cell_type": "code",
   "execution_count": null,
   "id": "7f255518",
   "metadata": {},
   "outputs": [],
   "source": [
    "# Convert to datetime\n",
    "OHIE[\"dt_notify_lottery\"] = pd.to_datetime(OHIE[\"dt_notify_lottery\"], errors='coerce')\n",
    "OHIE[\"month\"] = OHIE[\"dt_notify_lottery\"].dt.to_period(\"M\")\n",
    "OHIE[[\"dt_notify_lottery\", \"month\"]].head()"
   ]
  },
  {
   "cell_type": "markdown",
   "id": "0f65a1ea",
   "metadata": {},
   "source": [
    "### 2.2 Count number of observations per month using `sns.countplot`"
   ]
  },
  {
   "cell_type": "code",
   "execution_count": null,
   "id": "fae955fb-f6fb-4c5e-a040-4bc139732b5f",
   "metadata": {},
   "outputs": [],
   "source": [
    "# Your code here"
   ]
  },
  {
   "cell_type": "markdown",
   "id": "37d91dcc-c88f-4783-b3bd-9f45197d4fca",
   "metadata": {},
   "source": [
    "# Simulated data: covid-19 cases"
   ]
  },
  {
   "cell_type": "code",
   "execution_count": null,
   "id": "788a53a5-06a6-4ef5-b78b-1bff6656d7c3",
   "metadata": {},
   "outputs": [],
   "source": [
    "# Simulate weekly COVID-19 case data for 52 weeks in 3 regions\n",
    "weeks = pd.date_range(start=\"2021-01-03\", periods=52, freq='W-SUN')\n",
    "regions = [\"North\", \"South\", \"East\"]\n",
    "\n",
    "case_data = []\n",
    "for region in regions:\n",
    "    baseline = np.random.poisson(100, size=52)\n",
    "    wave = 50 * np.sin(np.linspace(0, 3 * np.pi, 52))\n",
    "    noise = np.random.normal(0, 10, 52)\n",
    "    for i, week in enumerate(weeks):\n",
    "        cases = max(0, baseline[i] + wave[i] + noise[i])\n",
    "        case_data.append({\"region\": region, \"week\": week, \"cases\": cases})\n",
    "\n",
    "covid_df = pd.DataFrame(case_data)"
   ]
  },
  {
   "cell_type": "markdown",
   "id": "3e575b33-0b2f-4859-9d1b-c4355e77d015",
   "metadata": {},
   "source": [
    "Plot weekly Covid-19 cases by region using `sns.lineplot()`"
   ]
  },
  {
   "cell_type": "code",
   "execution_count": null,
   "id": "ec89e72a-3bf4-4263-abef-c1c8de800e00",
   "metadata": {},
   "outputs": [],
   "source": [
    "# Your code here"
   ]
  },
  {
   "cell_type": "markdown",
   "id": "bb52721d-d3e5-483f-a671-42de745bd187",
   "metadata": {},
   "source": [
    "Split the plot into subplots by region, using `sns.relplot`"
   ]
  },
  {
   "cell_type": "code",
   "execution_count": null,
   "id": "2e35c958-035d-44a1-950d-fcf593ae2200",
   "metadata": {},
   "outputs": [],
   "source": [
    "# Your code here"
   ]
  },
  {
   "cell_type": "markdown",
   "id": "083061ec-f712-4c5f-a935-153cb9531f4e",
   "metadata": {},
   "source": [
    "Well done!"
   ]
  },
  {
   "cell_type": "code",
   "execution_count": null,
   "id": "19a4d57a-9a3e-42d8-8399-c7813fbd6957",
   "metadata": {},
   "outputs": [],
   "source": []
  }
 ],
 "metadata": {
  "kernelspec": {
   "display_name": "Python 3 (ipykernel)",
   "language": "python",
   "name": "python3"
  },
  "language_info": {
   "codemirror_mode": {
    "name": "ipython",
    "version": 3
   },
   "file_extension": ".py",
   "mimetype": "text/x-python",
   "name": "python",
   "nbconvert_exporter": "python",
   "pygments_lexer": "ipython3",
   "version": "3.11.7"
  }
 },
 "nbformat": 4,
 "nbformat_minor": 5
}
