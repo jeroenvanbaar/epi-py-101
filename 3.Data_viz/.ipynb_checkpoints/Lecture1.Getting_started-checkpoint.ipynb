{
 "cells": [
  {
   "cell_type": "markdown",
   "id": "2b6707cf",
   "metadata": {},
   "source": [
    "# Lecture 1: Getting Started with Python Visualization"
   ]
  },
  {
   "cell_type": "markdown",
   "id": "51b8e92b",
   "metadata": {},
   "source": [
    "### Objectives\n",
    "- Understand the role of data visualization in epidemiology\n",
    "- Learn how to use `matplotlib` and `seaborn`\n",
    "- Create simple plots (line, bar, scatter)\n",
    "- Annotate and label plots"
   ]
  },
  {
   "cell_type": "code",
   "execution_count": null,
   "id": "1acaf1e5",
   "metadata": {},
   "outputs": [],
   "source": [
    "import pandas as pd\n",
    "import matplotlib.pyplot as plt\n",
    "import seaborn as sns\n",
    "\n",
    "# Set style\n",
    "sns.set(style=\"whitegrid\")"
   ]
  },
  {
   "cell_type": "markdown",
   "id": "19931589",
   "metadata": {},
   "source": [
    "## Basic Plot with Matplotlib"
   ]
  },
  {
   "cell_type": "code",
   "execution_count": null,
   "id": "6346c541",
   "metadata": {},
   "outputs": [],
   "source": [
    "data = [20, 35, 30, 35, 27]\n",
    "labels = ['A', 'B', 'C', 'D', 'E']\n",
    "\n",
    "plt.figure(figsize=(6,4))\n",
    "plt.bar(labels, data)\n",
    "plt.title('Sample Bar Plot')\n",
    "plt.xlabel('Group')\n",
    "plt.ylabel('Value')\n",
    "plt.show()"
   ]
  },
  {
   "cell_type": "markdown",
   "id": "a534aa9f",
   "metadata": {},
   "source": [
    "## First Seaborn Plot"
   ]
  },
  {
   "cell_type": "code",
   "execution_count": null,
   "id": "2be216af",
   "metadata": {},
   "outputs": [],
   "source": [
    "tips = sns.load_dataset(\"tips\")\n",
    "sns.scatterplot(data=tips, x=\"total_bill\", y=\"tip\")\n",
    "plt.title(\"Scatterplot of Total Bill vs Tip\")\n",
    "plt.show()"
   ]
  }
 ],
 "metadata": {},
 "nbformat": 4,
 "nbformat_minor": 5
}
