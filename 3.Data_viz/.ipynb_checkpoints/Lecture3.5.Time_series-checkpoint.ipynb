{
 "cells": [
  {
   "cell_type": "markdown",
   "id": "ea4b48fa",
   "metadata": {},
   "source": [
    "# Lecture 5: Time Series and Longitudinal Data"
   ]
  },
  {
   "cell_type": "markdown",
   "id": "bccf46f9",
   "metadata": {},
   "source": [
    "### Objectives\n",
    "- Plot changes over time using line plots\n",
    "- Show individual or group-level trends\n",
    "- Summarize repeated measures with confidence intervals\n",
    "- Highlight interventions with vertical lines or shaded regions"
   ]
  },
  {
   "cell_type": "markdown",
   "id": "e75401e0",
   "metadata": {},
   "source": [
    "## Simulated Dataset for Longitudinal Analysis"
   ]
  },
  {
   "cell_type": "code",
   "execution_count": null,
   "id": "0c468939",
   "metadata": {},
   "outputs": [],
   "source": [
    "import pandas as pd\n",
    "import numpy as np\n",
    "import seaborn as sns\n",
    "import matplotlib.pyplot as plt\n",
    "\n",
    "sns.set(style='whitegrid')\n",
    "np.random.seed(42)\n",
    "\n",
    "# Simulate longitudinal data\n",
    "n = 100  # individuals\n",
    "times = [0, 1]  # before and after policy\n",
    "\n",
    "data = []\n",
    "for person in range(n):\n",
    "    base = np.random.normal(4, 2)\n",
    "    effect = np.random.normal(-0.5, 0.5) if np.random.rand() < 0.5 else 0  # simulate some change\n",
    "    for t in times:\n",
    "        score = base + t * effect + np.random.normal(0, 0.3)\n",
    "        data.append({\"id\": person, \"time\": t, \"depression\": score})\n",
    "\n",
    "long_df = pd.DataFrame(data)"
   ]
  },
  {
   "cell_type": "markdown",
   "id": "cab454c4",
   "metadata": {},
   "source": [
    "## Line Plot of One Individual"
   ]
  },
  {
   "cell_type": "code",
   "execution_count": null,
   "id": "866c024d",
   "metadata": {},
   "outputs": [],
   "source": [
    "# Plot a single individual's trajectory\n",
    "sns.lineplot(data=long_df[long_df['id'] == 0], x='time', y='depression', marker='o')\n",
    "plt.title('Depression Score Over Time (Individual 0)')\n",
    "plt.xticks([0, 1], labels=['Pre-policy', 'Post-policy'])\n",
    "plt.show()"
   ]
  },
  {
   "cell_type": "markdown",
   "id": "ce4055b8",
   "metadata": {},
   "source": [
    "## Faceted Line Plots for Multiple Individuals"
   ]
  },
  {
   "cell_type": "code",
   "execution_count": null,
   "id": "de4b6271",
   "metadata": {},
   "outputs": [],
   "source": [
    "# Facet by individual (small sample)\n",
    "sample_ids = long_df['id'].drop_duplicates().sample(9, random_state=1)\n",
    "sns.relplot(data=long_df[long_df['id'].isin(sample_ids)], x='time', y='depression', col='id', kind='line', col_wrap=3)\n",
    "plt.suptitle('Depression Trajectories (Sample)', y=1.02)\n",
    "plt.show()"
   ]
  },
  {
   "cell_type": "markdown",
   "id": "c9ce6040",
   "metadata": {},
   "source": [
    "## Group-Level Mean Trends Over Time with Confidence Intervals"
   ]
  },
  {
   "cell_type": "code",
   "execution_count": null,
   "id": "cfdc01c6",
   "metadata": {},
   "outputs": [],
   "source": [
    "# Mean depression score over time\n",
    "sns.lineplot(data=long_df, x='time', y='depression', ci='sd', marker='o')\n",
    "plt.xticks([0, 1], ['Pre-policy', 'Post-policy'])\n",
    "plt.title('Mean Depression Score with CI')\n",
    "plt.show()"
   ]
  },
  {
   "cell_type": "markdown",
   "id": "a93a40f7",
   "metadata": {},
   "source": [
    "## Highlighting an Intervention or Event"
   ]
  },
  {
   "cell_type": "code",
   "execution_count": null,
   "id": "b9a47084",
   "metadata": {},
   "outputs": [],
   "source": [
    "# Plot with vertical line for intervention\n",
    "sns.lineplot(data=long_df, x='time', y='depression', ci='sd', marker='o')\n",
    "plt.axvline(0.5, color='red', linestyle='--', label='Policy Introduced')\n",
    "plt.legend()\n",
    "plt.xticks([0, 1], ['Pre-policy', 'Post-policy'])\n",
    "plt.title('Mean Depression Score with Intervention Line')\n",
    "plt.show()"
   ]
  },
  {
   "cell_type": "markdown",
   "id": "7f17cad4",
   "metadata": {},
   "source": [
    "## Shading Pre/Post Periods"
   ]
  },
  {
   "cell_type": "code",
   "execution_count": null,
   "id": "8125633f",
   "metadata": {},
   "outputs": [],
   "source": [
    "sns.lineplot(data=long_df, x='time', y='depression', ci='sd', marker='o')\n",
    "plt.axvspan(-0.1, 0.5, color='gray', alpha=0.2, label='Pre-policy')\n",
    "plt.axvspan(0.5, 1.1, color='green', alpha=0.2, label='Post-policy')\n",
    "plt.xticks([0, 1], ['Pre', 'Post'])\n",
    "plt.legend()\n",
    "plt.title('Mean Depression Score with Shaded Intervention Period')\n",
    "plt.show()"
   ]
  },
  {
   "cell_type": "markdown",
   "id": "6954f400",
   "metadata": {},
   "source": [
    "## 🛠 Practice: Visualize Pre/Post Policy Change\n",
    "Try the following:\n",
    "- Pick 6 random individuals and plot their pre/post depression scores\n",
    "- Plot the mean over time for the whole sample\n",
    "- Add a shaded region or vertical line to mark the policy moment\n",
    "- If you’re comfortable, simulate different effects for treatment vs. control"
   ]
  }
 ],
 "metadata": {},
 "nbformat": 4,
 "nbformat_minor": 5
}
