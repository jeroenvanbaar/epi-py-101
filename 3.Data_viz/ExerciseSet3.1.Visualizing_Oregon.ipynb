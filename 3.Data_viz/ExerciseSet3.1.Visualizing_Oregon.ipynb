{
 "cells": [
  {
   "cell_type": "markdown",
   "id": "02a15bb4",
   "metadata": {},
   "source": [
    "# Exercise Set 1: Exploring the Oregon Health Insurance Experiment Data"
   ]
  },
  {
   "cell_type": "markdown",
   "id": "d99ff756",
   "metadata": {},
   "source": [
    "**Objective:** Practice your new skills in data visualization using the OHIE dataset. You will:\n",
    "- Load and clean data\n",
    "- Create histograms, KDE plots, and ECDFs\n",
    "- Compare subgroups using bar plots, box plots, and swarm plots\n",
    "\n",
    "**Dataset:** `OHIE_12m.csv`"
   ]
  },
  {
   "cell_type": "markdown",
   "id": "a8953b71",
   "metadata": {},
   "source": [
    "## 1. Setup"
   ]
  },
  {
   "cell_type": "code",
   "execution_count": null,
   "id": "28cc52ec-d6c9-49d0-9433-be74f7e35505",
   "metadata": {},
   "outputs": [],
   "source": [
    "import numpy as np\n",
    "import pandas as pd\n",
    "import matplotlib.pyplot as plt\n",
    "import seaborn as sns"
   ]
  },
  {
   "cell_type": "code",
   "execution_count": 1,
   "id": "f4bcb898-3d66-4d0a-8cbe-f7b3ee4677e5",
   "metadata": {},
   "outputs": [],
   "source": [
    "# Your code here: load the Oregon dataset"
   ]
  },
  {
   "cell_type": "markdown",
   "id": "7cb316e5",
   "metadata": {},
   "source": [
    "## 2. Explore the Data\n",
    "Take a look at the structure of the dataset. How many people are in the treatment vs control group?"
   ]
  },
  {
   "cell_type": "code",
   "execution_count": 2,
   "id": "bd7d7144",
   "metadata": {},
   "outputs": [],
   "source": [
    "# Your code here"
   ]
  },
  {
   "cell_type": "markdown",
   "id": "ca48bf82",
   "metadata": {},
   "source": [
    "## 3. Plotting a Distribution\n",
    "Visualize the distribution of depression scores using a histogram and a KDE plot."
   ]
  },
  {
   "cell_type": "code",
   "execution_count": 3,
   "id": "f7361c48",
   "metadata": {},
   "outputs": [],
   "source": [
    "# Histogram\n",
    "# Your code here"
   ]
  },
  {
   "cell_type": "code",
   "execution_count": 4,
   "id": "383baa93",
   "metadata": {},
   "outputs": [],
   "source": [
    "# KDE plot\n",
    "# Your code here"
   ]
  },
  {
   "cell_type": "markdown",
   "id": "b13f2e21-bd33-41e5-a569-b504549bce95",
   "metadata": {},
   "source": [
    "#### Why is the KDE plot not a great choice for the PHQ2 distribution?"
   ]
  },
  {
   "cell_type": "code",
   "execution_count": 5,
   "id": "09bbbc64-bf24-49f1-a6f2-c19c767e96d0",
   "metadata": {},
   "outputs": [],
   "source": [
    "# Your answer here"
   ]
  },
  {
   "cell_type": "markdown",
   "id": "131c08fe",
   "metadata": {},
   "source": [
    "## 4. Apply a Log Transformation\n",
    "Try showing the distribution of `hhinc_pctfpl_12m` (household income as percentage of federal poverty line) with and without log-transforming the x axis using `plt.xscale('log')`. Which version do you prefer, and why?"
   ]
  },
  {
   "cell_type": "code",
   "execution_count": 6,
   "id": "b34d6c94",
   "metadata": {},
   "outputs": [],
   "source": [
    "# Your code here"
   ]
  },
  {
   "cell_type": "markdown",
   "id": "738133c5",
   "metadata": {},
   "source": [
    "## 5. Compare Groups Using Bar and Box Plots\n",
    "Compare total out-of-pocket health expenses in past 6 months (`cost_tot_oop_12m`) across treatment and control groups.\n",
    "- Create a barplot first without and then with a stripplot overlay. What do you notice about the difference?\n",
    "- Create a boxplot, using a log scale on the y axis. Boxplots show the median, which can be a useful central tendency measure for skewed distributions. Try also computing the median for `cost_tot_oop_12m` using `.groupby()` and `.describe()`, which you learned about in the previous module. Are the medians different between the two treatment groups?"
   ]
  },
  {
   "cell_type": "markdown",
   "id": "4f9d0f47",
   "metadata": {},
   "source": [
    "## 6. Swarm or Point Plot for Small Sample Exploration\n",
    "Create a swarm plot comparing `PHQ2_sum` by `female_list`."
   ]
  },
  {
   "cell_type": "code",
   "execution_count": 8,
   "id": "2847fc5d",
   "metadata": {},
   "outputs": [],
   "source": [
    "# Your code here"
   ]
  },
  {
   "cell_type": "markdown",
   "id": "e4a0321d-3d69-41b1-839e-b285abfa010b",
   "metadata": {},
   "source": [
    "# 7. Categorical outcome: happiness"
   ]
  },
  {
   "cell_type": "markdown",
   "id": "cc0c30a3-043e-49a3-accc-e086d24b9a1b",
   "metadata": {},
   "source": [
    "Create a Seaborn `countplot` that shows counts for levels of `happiness_12m`. Split the bars by `treatment` using the `hue` parameter. Use the `order` parameter to set an intuitive order of the levels of happiness."
   ]
  },
  {
   "cell_type": "code",
   "execution_count": 9,
   "id": "023d7e6c-083d-4eee-8728-1ecdd1b5d681",
   "metadata": {},
   "outputs": [],
   "source": [
    "# Your code here"
   ]
  },
  {
   "cell_type": "markdown",
   "id": "4ff28771-0898-4049-8c1b-ca55c811533a",
   "metadata": {},
   "source": [
    "Try exchanging the `x` and `hue` parameters in the `countplot`. Which version do you prefer? Hint: you may have to change the `order` parameter to `hue_order`."
   ]
  },
  {
   "cell_type": "code",
   "execution_count": 10,
   "id": "48683b11-e445-4db8-af00-6b5f86216a02",
   "metadata": {},
   "outputs": [],
   "source": [
    "# Your code here"
   ]
  },
  {
   "cell_type": "markdown",
   "id": "2dfe3628-ce12-40ed-b8e6-84e52b335fd7",
   "metadata": {},
   "source": [
    "Save your plot to a .pdf file"
   ]
  },
  {
   "cell_type": "code",
   "execution_count": null,
   "id": "6a212c7b-7d61-47aa-b290-0068cfb3b1fc",
   "metadata": {},
   "outputs": [],
   "source": []
  }
 ],
 "metadata": {
  "kernelspec": {
   "display_name": "Python 3 (ipykernel)",
   "language": "python",
   "name": "python3"
  },
  "language_info": {
   "codemirror_mode": {
    "name": "ipython",
    "version": 3
   },
   "file_extension": ".py",
   "mimetype": "text/x-python",
   "name": "python",
   "nbconvert_exporter": "python",
   "pygments_lexer": "ipython3",
   "version": "3.13.2"
  }
 },
 "nbformat": 4,
 "nbformat_minor": 5
}
