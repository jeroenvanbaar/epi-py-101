{
 "cells": [
  {
   "cell_type": "markdown",
   "id": "aff3ec74",
   "metadata": {},
   "source": [
    "# Lecture 4.4: Logistic Regression for Binary Outcomes"
   ]
  },
  {
   "cell_type": "markdown",
   "id": "4e6da4b1",
   "metadata": {},
   "source": [
    "### 🧠 Learning Objectives\n",
    "- Fit and interpret logistic regression models\n",
    "- Estimate odds ratios and confidence intervals\n",
    "- Include categorical and continuous predictors\n",
    "- Apply to binary health outcomes\n"
   ]
  },
  {
   "cell_type": "markdown",
   "id": "bc40b59d",
   "metadata": {},
   "source": [
    "## 🔧 Setup and Load Data"
   ]
  },
  {
   "cell_type": "code",
   "execution_count": 1,
   "id": "09a0194f",
   "metadata": {},
   "outputs": [],
   "source": [
    "import pandas as pd\n",
    "import statsmodels.api as sm\n",
    "import statsmodels.formula.api as smf\n",
    "import numpy as np\n",
    "import matplotlib.pyplot as plt\n",
    "import seaborn as sns\n",
    "\n",
    "# Load OHIE and Framingham datasets\n",
    "OHIE = pd.read_csv(\"../Data/OHIE_12m.csv\")"
   ]
  },
  {
   "cell_type": "markdown",
   "id": "6c6ae3f7",
   "metadata": {},
   "source": [
    "## 🎯 1. Binary Outcome: Depression indicator"
   ]
  },
  {
   "cell_type": "markdown",
   "id": "5553073f-0c46-4677-8634-a718fe58409c",
   "metadata": {},
   "source": [
    "Is depression (PHQ2 > cutoff) associated with household income (% fpl)?"
   ]
  },
  {
   "cell_type": "code",
   "execution_count": 2,
   "id": "ee356018-fda4-48e6-9522-04733baf20e7",
   "metadata": {},
   "outputs": [],
   "source": [
    "OHIE_clean = OHIE.dropna(subset = ['PHQ2_cutoff','treatment'])"
   ]
  },
  {
   "cell_type": "code",
   "execution_count": 3,
   "id": "2e47880c-507c-44a0-82cd-786e9b233cb3",
   "metadata": {},
   "outputs": [
    {
     "name": "stderr",
     "output_type": "stream",
     "text": [
      "/var/folders/1_/lcw4zvln3rd_5hb93nn0kqw00000gn/T/ipykernel_47218/4071896601.py:1: FutureWarning: Downcasting behavior in `replace` is deprecated and will be removed in a future version. To retain the old behavior, explicitly call `result.infer_objects(copy=False)`. To opt-in to the future behavior, set `pd.set_option('future.no_silent_downcasting', True)`\n",
      "  OHIE_clean['PHQ2_cutoff'] = OHIE_clean['PHQ2_cutoff'].replace({False:0, True:1})\n",
      "/var/folders/1_/lcw4zvln3rd_5hb93nn0kqw00000gn/T/ipykernel_47218/4071896601.py:1: SettingWithCopyWarning: \n",
      "A value is trying to be set on a copy of a slice from a DataFrame.\n",
      "Try using .loc[row_indexer,col_indexer] = value instead\n",
      "\n",
      "See the caveats in the documentation: https://pandas.pydata.org/pandas-docs/stable/user_guide/indexing.html#returning-a-view-versus-a-copy\n",
      "  OHIE_clean['PHQ2_cutoff'] = OHIE_clean['PHQ2_cutoff'].replace({False:0, True:1})\n"
     ]
    }
   ],
   "source": [
    "OHIE_clean['PHQ2_cutoff'] = OHIE_clean['PHQ2_cutoff'].replace({False:0, True:1})"
   ]
  },
  {
   "cell_type": "code",
   "execution_count": 11,
   "id": "66ad5e81-997c-460b-b00b-71f04a57e50d",
   "metadata": {},
   "outputs": [
    {
     "data": {
      "text/plain": [
       "<Axes: xlabel='treatment', ylabel='PHQ2_cutoff'>"
      ]
     },
     "execution_count": 11,
     "metadata": {},
     "output_type": "execute_result"
    },
    {
     "data": {
      "image/png": "[encoded data removed]",
      "text/plain": [
       "<Figure size 640x480 with 1 Axes>"
      ]
     },
     "metadata": {},
     "output_type": "display_data"
    }
   ],
   "source": [
    "sns.stripplot(data=OHIE_clean, y=\"PHQ2_cutoff\", x=\"treatment\", alpha = .01, jitter = .3)"
   ]
  },
  {
   "cell_type": "code",
   "execution_count": 12,
   "id": "c263d532-38fa-4568-9e2b-c93d49fc1338",
   "metadata": {},
   "outputs": [
    {
     "name": "stdout",
     "output_type": "stream",
     "text": [
      "Optimization terminated successfully.\n",
      "         Current function value: 0.617303\n",
      "         Iterations 5\n",
      "                           Logit Regression Results                           \n",
      "==============================================================================\n",
      "Dep. Variable:            PHQ2_cutoff   No. Observations:                 3896\n",
      "Model:                          Logit   Df Residuals:                     3894\n",
      "Method:                           MLE   Df Model:                            1\n",
      "Date:                Mon, 28 Apr 2025   Pseudo R-squ.:               0.0006506\n",
      "Time:                        18:14:56   Log-Likelihood:                -2405.0\n",
      "converged:                       True   LL-Null:                       -2406.6\n",
      "Covariance Type:            nonrobust   LLR p-value:                   0.07679\n",
      "=========================================================================================\n",
      "                            coef    std err          z      P>|z|      [0.025      0.975]\n",
      "-----------------------------------------------------------------------------------------\n",
      "Intercept                -0.7476      0.049    -15.408      0.000      -0.843      -0.652\n",
      "treatment[T.Selected]    -0.1228      0.069     -1.769      0.077      -0.259       0.013\n",
      "=========================================================================================\n"
     ]
    }
   ],
   "source": [
    "model1 = smf.logit('PHQ2_cutoff ~ treatment', data = OHIE_clean)\n",
    "result1 = model1.fit()\n",
    "print(result1.summary())"
   ]
  },
  {
   "cell_type": "markdown",
   "id": "bfbd9ae2-0844-4693-9a69-3ec53ac36806",
   "metadata": {},
   "source": [
    "## 2. Interpret as odds ratio"
   ]
  },
  {
   "cell_type": "code",
   "execution_count": 14,
   "id": "d8734775-4e64-44ca-8725-3ecd3b82a720",
   "metadata": {},
   "outputs": [
    {
     "name": "stdout",
     "output_type": "stream",
     "text": [
      "                           2.5%     97.5%        OR\n",
      "Intercept              0.430572  0.520763  0.473525\n",
      "treatment[T.Selected]  0.771881  1.013347  0.884412\n"
     ]
    }
   ],
   "source": [
    "params = result1.params\n",
    "conf = result1.conf_int()\n",
    "conf[\"OR\"] = params\n",
    "conf.columns = [\"2.5%\", \"97.5%\", \"OR\"]\n",
    "print(np.exp(conf))"
   ]
  },
  {
   "cell_type": "markdown",
   "id": "7f8abe01-d94d-4694-a3bd-836448db324d",
   "metadata": {},
   "source": [
    "## 3. Add predictors"
   ]
  },
  {
   "cell_type": "code",
   "execution_count": 15,
   "id": "dba40fda-1a64-4f58-a88b-dc63e7514ffb",
   "metadata": {},
   "outputs": [
    {
     "name": "stdout",
     "output_type": "stream",
     "text": [
      "Optimization terminated successfully.\n",
      "         Current function value: 0.598585\n",
      "         Iterations 5\n",
      "                           Logit Regression Results                           \n",
      "==============================================================================\n",
      "Dep. Variable:            PHQ2_cutoff   No. Observations:                 3522\n",
      "Model:                          Logit   Df Residuals:                     3518\n",
      "Method:                           MLE   Df Model:                            3\n",
      "Date:                Mon, 28 Apr 2025   Pseudo R-squ.:                 0.02631\n",
      "Time:                        18:15:51   Log-Likelihood:                -2108.2\n",
      "converged:                       True   LL-Null:                       -2165.2\n",
      "Covariance Type:            nonrobust   LLR p-value:                 1.568e-24\n",
      "============================================================================================\n",
      "                               coef    std err          z      P>|z|      [0.025      0.975]\n",
      "--------------------------------------------------------------------------------------------\n",
      "Intercept                   -0.4965      0.081     -6.107      0.000      -0.656      -0.337\n",
      "treatment[T.Selected]       -0.0899      0.074     -1.208      0.227      -0.236       0.056\n",
      "female_list[T.1: Female]     0.2373      0.077      3.088      0.002       0.087       0.388\n",
      "hhinc_pctfpl_12m            -0.0059      0.001     -9.495      0.000      -0.007      -0.005\n",
      "============================================================================================\n"
     ]
    }
   ],
   "source": [
    "OHIE_clean = OHIE_clean.dropna(subset = ['PHQ2_cutoff','hhinc_pctfpl_12m','female_list','treatment'])\n",
    "model2 = smf.logit(\"PHQ2_cutoff ~ treatment + hhinc_pctfpl_12m + female_list\", data=OHIE_clean)\n",
    "result2 = model2.fit()\n",
    "print(result2.summary())"
   ]
  },
  {
   "cell_type": "code",
   "execution_count": 16,
   "id": "12682606-e764-4e51-89d1-28f6410cae85",
   "metadata": {},
   "outputs": [
    {
     "name": "stdout",
     "output_type": "stream",
     "text": [
      "                              2.5%     97.5%        OR\n",
      "Intercept                 0.518990  0.713794  0.608648\n",
      "treatment[T.Selected]     0.789982  1.057532  0.914019\n",
      "female_list[T.1: Female]  1.090578  1.473862  1.267818\n",
      "hhinc_pctfpl_12m          0.992864  0.995300  0.994081\n"
     ]
    }
   ],
   "source": [
    "params = result2.params\n",
    "conf = result2.conf_int()\n",
    "conf[\"OR\"] = params\n",
    "conf.columns = [\"2.5%\", \"97.5%\", \"OR\"]\n",
    "print(np.exp(conf))"
   ]
  },
  {
   "cell_type": "markdown",
   "id": "a51777f3-53ad-4ab6-ac4d-d76b000402dc",
   "metadata": {},
   "source": [
    "Findings:\n",
    "\n",
    "- Being female is associated with 27% higher odds of having PHQ-2 depression than being male, holding the other modeled variables constant\n",
    "- Going up in income by 1 percent of the federal poverty line is associated with 0.005% lower odds of having PHQ-2 depression\n",
    "- The treatment effect is not significant"
   ]
  },
  {
   "cell_type": "markdown",
   "id": "6e166bfb-3451-40a1-9181-613f74627392",
   "metadata": {},
   "source": [
    "## 4. Add interactions"
   ]
  },
  {
   "cell_type": "code",
   "execution_count": 18,
   "id": "d58b6c80-5b86-44e7-80fb-ac6f8235eb8d",
   "metadata": {},
   "outputs": [
    {
     "name": "stdout",
     "output_type": "stream",
     "text": [
      "Optimization terminated successfully.\n",
      "         Current function value: 0.598567\n",
      "         Iterations 5\n",
      "                           Logit Regression Results                           \n",
      "==============================================================================\n",
      "Dep. Variable:            PHQ2_cutoff   No. Observations:                 3522\n",
      "Model:                          Logit   Df Residuals:                     3517\n",
      "Method:                           MLE   Df Model:                            4\n",
      "Date:                Mon, 28 Apr 2025   Pseudo R-squ.:                 0.02634\n",
      "Time:                        18:17:23   Log-Likelihood:                -2108.2\n",
      "converged:                       True   LL-Null:                       -2165.2\n",
      "Covariance Type:            nonrobust   LLR p-value:                 9.956e-24\n",
      "==================================================================================================================\n",
      "                                                     coef    std err          z      P>|z|      [0.025      0.975]\n",
      "------------------------------------------------------------------------------------------------------------------\n",
      "Intercept                                         -0.4804      0.093     -5.157      0.000      -0.663      -0.298\n",
      "treatment[T.Selected]                             -0.1238      0.122     -1.017      0.309      -0.362       0.115\n",
      "female_list[T.1: Female]                           0.2110      0.107      1.971      0.049       0.001       0.421\n",
      "treatment[T.Selected]:female_list[T.1: Female]     0.0541      0.154      0.352      0.725      -0.247       0.356\n",
      "hhinc_pctfpl_12m                                  -0.0059      0.001     -9.495      0.000      -0.007      -0.005\n",
      "==================================================================================================================\n"
     ]
    }
   ],
   "source": [
    "OHIE_clean = OHIE_clean.dropna(subset = ['PHQ2_cutoff','hhinc_pctfpl_12m','female_list','treatment'])\n",
    "model3 = smf.logit(\"PHQ2_cutoff ~ hhinc_pctfpl_12m + treatment * female_list\", data=OHIE_clean)\n",
    "result3 = model3.fit()\n",
    "print(result3.summary())"
   ]
  },
  {
   "cell_type": "markdown",
   "id": "0f0e84ea-a0e0-4b1c-9679-56f520b7dff7",
   "metadata": {},
   "source": [
    "## 5. Visualize the predicted vs actual observation"
   ]
  },
  {
   "cell_type": "code",
   "execution_count": 20,
   "id": "a80d5ce2-1568-41a3-a30a-a430b620856d",
   "metadata": {},
   "outputs": [
    {
     "data": {
      "image/png": "[encoded data removed]",
      "text/plain": [
       "<Figure size 640x480 with 1 Axes>"
      ]
     },
     "metadata": {},
     "output_type": "display_data"
    }
   ],
   "source": [
    "OHIE_clean[\"fitted_prob_PHQ2\"] = result3.predict(OHIE_clean)\n",
    "sns.histplot(data=OHIE_clean, x=\"fitted_prob_PHQ2\", hue=\"PHQ2_cutoff\", element=\"step\", stat=\"density\", common_norm=False)\n",
    "plt.title(\"Predicted Probability vs. Depression Status\")\n",
    "plt.xlabel(\"Predicted Probability\")\n",
    "plt.show()"
   ]
  },
  {
   "cell_type": "code",
   "execution_count": null,
   "id": "2e119524-0f84-44a0-9c50-4ff4852c9e45",
   "metadata": {},
   "outputs": [],
   "source": []
  }
 ],
 "metadata": {
  "kernelspec": {
   "display_name": "Python 3 (ipykernel)",
   "language": "python",
   "name": "python3"
  },
  "language_info": {
   "codemirror_mode": {
    "name": "ipython",
    "version": 3
   },
   "file_extension": ".py",
   "mimetype": "text/x-python",
   "name": "python",
   "nbconvert_exporter": "python",
   "pygments_lexer": "ipython3",
   "version": "3.13.2"
  }
 },
 "nbformat": 4,
 "nbformat_minor": 5
}
