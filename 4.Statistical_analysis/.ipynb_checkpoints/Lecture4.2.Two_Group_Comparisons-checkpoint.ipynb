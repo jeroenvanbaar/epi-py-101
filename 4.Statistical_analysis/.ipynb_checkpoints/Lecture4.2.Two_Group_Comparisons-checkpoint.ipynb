{
 "cells": [
  {
   "cell_type": "markdown",
   "id": "ca436c64",
   "metadata": {},
   "source": [
    "# Lecture 4.2: Comparing Two Groups"
   ]
  },
  {
   "cell_type": "markdown",
   "id": "0793d6f0",
   "metadata": {},
   "source": [
    "### 🧠 Learning Objectives\n",
    "- Perform t-tests and chi-square tests\n",
    "- Compare means and proportions between groups\n",
    "- Interpret test results and confidence intervals\n",
    "- Apply these tests to epidemiological data"
   ]
  },
  {
   "cell_type": "markdown",
   "id": "1cf1d4eb",
   "metadata": {},
   "source": [
    "## 🔧 Setup and Load Data"
   ]
  },
  {
   "cell_type": "code",
   "execution_count": 43,
   "id": "93e22e20-ca51-4bef-b759-d14f49911eea",
   "metadata": {},
   "outputs": [],
   "source": [
    "import numpy as np\n",
    "import pandas as pd\n",
    "import scipy.stats as stats\n",
    "import statsmodels.api as sm\n",
    "import matplotlib.pyplot as plt\n",
    "import seaborn as sns\n",
    "import tableone"
   ]
  },
  {
   "cell_type": "code",
   "execution_count": 44,
   "id": "f9bba3c8-adf7-4e73-b887-1d78782f8b19",
   "metadata": {},
   "outputs": [],
   "source": [
    "# Load OHIE and Framingham datasets\n",
    "ohie = pd.read_csv(\"../Data/OHIE_12m.csv\")\n",
    "framingham = pd.read_csv(\"../Data/frmgham2.csv\")"
   ]
  },
  {
   "cell_type": "markdown",
   "id": "7dee9374",
   "metadata": {},
   "source": [
    "## 🎯 1. Comparing Means: t-test example with Framingham"
   ]
  },
  {
   "cell_type": "markdown",
   "id": "27b0655a-18c5-4478-9052-4910ad8c760a",
   "metadata": {},
   "source": [
    "##### Describe data"
   ]
  },
  {
   "cell_type": "code",
   "execution_count": 45,
   "id": "3525a8fc-2478-46c1-95fc-fef8466bfa09",
   "metadata": {},
   "outputs": [
    {
     "data": {
      "text/html": [
       "<div>\n",
       "<style scoped>\n",
       "    .dataframe tbody tr th:only-of-type {\n",
       "        vertical-align: middle;\n",
       "    }\n",
       "\n",
       "    .dataframe tbody tr th {\n",
       "        vertical-align: top;\n",
       "    }\n",
       "\n",
       "    .dataframe thead tr th {\n",
       "        text-align: left;\n",
       "    }\n",
       "</style>\n",
       "<table border=\"1\" class=\"dataframe\">\n",
       "  <thead>\n",
       "    <tr>\n",
       "      <th></th>\n",
       "      <th></th>\n",
       "      <th colspan=\"4\" halign=\"left\">Grouped by CURSMOKE</th>\n",
       "    </tr>\n",
       "    <tr>\n",
       "      <th></th>\n",
       "      <th></th>\n",
       "      <th>Missing</th>\n",
       "      <th>Overall</th>\n",
       "      <th>0</th>\n",
       "      <th>1</th>\n",
       "    </tr>\n",
       "  </thead>\n",
       "  <tbody>\n",
       "    <tr>\n",
       "      <th>n</th>\n",
       "      <th></th>\n",
       "      <td></td>\n",
       "      <td>11627</td>\n",
       "      <td>6598</td>\n",
       "      <td>5029</td>\n",
       "    </tr>\n",
       "    <tr>\n",
       "      <th>SYSBP, mean (SD)</th>\n",
       "      <th></th>\n",
       "      <td>0</td>\n",
       "      <td>136.3 (22.8)</td>\n",
       "      <td>139.1 (23.2)</td>\n",
       "      <td>132.6 (21.7)</td>\n",
       "    </tr>\n",
       "  </tbody>\n",
       "</table>\n",
       "</div><br />"
      ],
      "text/plain": [
       "                  Grouped by CURSMOKE                                          \n",
       "                              Missing       Overall             0             1\n",
       "n                                             11627          6598          5029\n",
       "SYSBP, mean (SD)                    0  136.3 (22.8)  139.1 (23.2)  132.6 (21.7)"
      ]
     },
     "execution_count": 45,
     "metadata": {},
     "output_type": "execute_result"
    }
   ],
   "source": [
    "tableone.TableOne(framingham, columns = ['SYSBP'], groupby= 'CURSMOKE')"
   ]
  },
  {
   "cell_type": "markdown",
   "id": "ac46eeb0",
   "metadata": {},
   "source": [
    "Plot the Group Means"
   ]
  },
  {
   "cell_type": "code",
   "execution_count": 46,
   "id": "46a1baca",
   "metadata": {},
   "outputs": [
    {
     "data": {
      "image/png": "[encoded data removed]",
      "text/plain": [
       "<Figure size 640x480 with 1 Axes>"
      ]
     },
     "metadata": {},
     "output_type": "display_data"
    }
   ],
   "source": [
    "sns.boxplot(data=framingham, x=\"CURSMOKE\", y=\"SYSBP\")\n",
    "plt.title(\"Systolic blood pressure by smoking status\")\n",
    "plt.xlabel(\"Smoking status\")\n",
    "plt.ylabel(\"Systolic BP\")\n",
    "plt.show()"
   ]
  },
  {
   "cell_type": "markdown",
   "id": "0c8aead0-1ccd-4dae-83f1-568f4adcdd9b",
   "metadata": {},
   "source": [
    "## Statistical test"
   ]
  },
  {
   "cell_type": "code",
   "execution_count": 47,
   "id": "6b99bc31-fd7f-4fdb-92d1-3d3d17a0bbf1",
   "metadata": {},
   "outputs": [],
   "source": [
    "# Drop missing data\n",
    "framingham_clean = framingham.dropna(subset=[\"SYSBP\", \"CURSMOKE\"])\n",
    "\n",
    "# Split into groups\n",
    "group0 = framingham_clean[framingham_clean[\"CURSMOKE\"] == 0][\"SYSBP\"]\n",
    "group1 = framingham_clean[framingham_clean[\"CURSMOKE\"] == 1][\"SYSBP\"]"
   ]
  },
  {
   "cell_type": "markdown",
   "id": "a08dc6a3-fec7-41fb-ac9a-5192ca04cc59",
   "metadata": {},
   "source": [
    "### Types of t-tests:\n",
    "\n",
    "- Independent samples t-test\n",
    "- One-sample t-test\n",
    "- Paired-sample t-test (= one-sample on difference scores)"
   ]
  },
  {
   "cell_type": "code",
   "execution_count": 48,
   "id": "011e0e6a-a61f-40c2-971a-424119a43296",
   "metadata": {},
   "outputs": [],
   "source": [
    "# Perform t-test (independent samples)\n",
    "ttest_result = stats.ttest_ind(group0, group1)"
   ]
  },
  {
   "cell_type": "code",
   "execution_count": 49,
   "id": "6d331d2d-d1c4-4135-b264-508e804fc3d7",
   "metadata": {},
   "outputs": [
    {
     "data": {
      "text/plain": [
       "TtestResult(statistic=np.float64(15.329366471435574), pvalue=np.float64(1.5867101569518516e-52), df=np.float64(11625.0))"
      ]
     },
     "execution_count": 49,
     "metadata": {},
     "output_type": "execute_result"
    }
   ],
   "source": [
    "# Inspect results\n",
    "ttest_result"
   ]
  },
  {
   "cell_type": "code",
   "execution_count": 50,
   "id": "d2b34a0b-b72b-4616-8a84-a161445cd886",
   "metadata": {},
   "outputs": [
    {
     "name": "stdout",
     "output_type": "stream",
     "text": [
      "t(11625) = 15.33, p = 0.0000\n"
     ]
    }
   ],
   "source": [
    "# Print results\n",
    "print('t(%i) = %.2f, p = %.4f'%(ttest_result.df, ttest_result.statistic, ttest_result.pvalue))"
   ]
  },
  {
   "cell_type": "markdown",
   "id": "124904cf-e07e-4071-9c24-c17a6b190296",
   "metadata": {},
   "source": [
    "Interpretation / report:\n",
    "An independent samples t-test revealed that Smokers (M = 132.6, SD = 21.7) had significantly lower systolic blood pressure than non-smokers (M = 139.1, SD = 23.2), t(11625) = 15.33, p < 0.001. (Good practice to add effect size such as Cohen's _d_.)"
   ]
  },
  {
   "cell_type": "markdown",
   "id": "dd4dbc95",
   "metadata": {},
   "source": [
    "## 🎯 2. Comparing Proportions: Chi-square test"
   ]
  },
  {
   "cell_type": "markdown",
   "id": "21b6c471-d71b-4ff5-9981-44a8728a781f",
   "metadata": {},
   "source": [
    "Is depression (PHQ2 > cutoff) more common among people who were not selected than among people who were selected?"
   ]
  },
  {
   "cell_type": "markdown",
   "id": "fd85256c-5bee-498f-8b62-07e44290a253",
   "metadata": {},
   "source": [
    "Describe data"
   ]
  },
  {
   "cell_type": "code",
   "execution_count": 53,
   "id": "0d5ece90-fbd9-4798-8d2d-9794dc1f97d7",
   "metadata": {},
   "outputs": [
    {
     "data": {
      "text/html": [
       "<div>\n",
       "<style scoped>\n",
       "    .dataframe tbody tr th:only-of-type {\n",
       "        vertical-align: middle;\n",
       "    }\n",
       "\n",
       "    .dataframe tbody tr th {\n",
       "        vertical-align: top;\n",
       "    }\n",
       "\n",
       "    .dataframe thead tr th {\n",
       "        text-align: left;\n",
       "    }\n",
       "</style>\n",
       "<table border=\"1\" class=\"dataframe\">\n",
       "  <thead>\n",
       "    <tr>\n",
       "      <th></th>\n",
       "      <th></th>\n",
       "      <th colspan=\"4\" halign=\"left\">Grouped by treatment</th>\n",
       "    </tr>\n",
       "    <tr>\n",
       "      <th></th>\n",
       "      <th></th>\n",
       "      <th>Missing</th>\n",
       "      <th>Overall</th>\n",
       "      <th>Not selected</th>\n",
       "      <th>Selected</th>\n",
       "    </tr>\n",
       "  </thead>\n",
       "  <tbody>\n",
       "    <tr>\n",
       "      <th>n</th>\n",
       "      <th></th>\n",
       "      <td></td>\n",
       "      <td>4000</td>\n",
       "      <td>1993</td>\n",
       "      <td>2007</td>\n",
       "    </tr>\n",
       "    <tr>\n",
       "      <th rowspan=\"3\" valign=\"top\">PHQ2_cutoff, n (%)</th>\n",
       "      <th>False</th>\n",
       "      <td></td>\n",
       "      <td>2695 (67.4)</td>\n",
       "      <td>1322 (66.3)</td>\n",
       "      <td>1373 (68.4)</td>\n",
       "    </tr>\n",
       "    <tr>\n",
       "      <th>None</th>\n",
       "      <td></td>\n",
       "      <td>104 (2.6)</td>\n",
       "      <td>45 (2.3)</td>\n",
       "      <td>59 (2.9)</td>\n",
       "    </tr>\n",
       "    <tr>\n",
       "      <th>True</th>\n",
       "      <td></td>\n",
       "      <td>1201 (30.0)</td>\n",
       "      <td>626 (31.4)</td>\n",
       "      <td>575 (28.6)</td>\n",
       "    </tr>\n",
       "  </tbody>\n",
       "</table>\n",
       "</div>"
      ],
      "text/plain": [
       "                         Grouped by treatment                                       \n",
       "                                      Missing      Overall Not selected     Selected\n",
       "n                                                     4000         1993         2007\n",
       "PHQ2_cutoff, n (%) False                       2695 (67.4)  1322 (66.3)  1373 (68.4)\n",
       "                   None                          104 (2.6)     45 (2.3)     59 (2.9)\n",
       "                   True                        1201 (30.0)   626 (31.4)   575 (28.6)"
      ]
     },
     "execution_count": 53,
     "metadata": {},
     "output_type": "execute_result"
    }
   ],
   "source": [
    "tableone.TableOne(data = ohie, columns = ['PHQ2_cutoff'], groupby = 'treatment')"
   ]
  },
  {
   "cell_type": "markdown",
   "id": "916f53a5-e1b0-42c2-aa4b-e660d0f46855",
   "metadata": {},
   "source": [
    "Extract test data: contingency table"
   ]
  },
  {
   "cell_type": "code",
   "execution_count": 52,
   "id": "97708886-b3d2-4116-838f-0fb9bcc28436",
   "metadata": {},
   "outputs": [
    {
     "name": "stdout",
     "output_type": "stream",
     "text": [
      "PHQ2_cutoff   False  True \n",
      "treatment                 \n",
      "Not selected   1322    626\n",
      "Selected       1373    575\n"
     ]
    }
   ],
   "source": [
    "# Contingency table\n",
    "ctab = pd.crosstab(ohie[\"treatment\"], ohie[\"PHQ2_cutoff\"])\n",
    "print(ctab)"
   ]
  },
  {
   "cell_type": "markdown",
   "id": "8af0f501-5b70-458e-b50d-928599749038",
   "metadata": {},
   "source": [
    "Chi-square test:"
   ]
  },
  {
   "cell_type": "code",
   "execution_count": 55,
   "id": "6b5459f2-cef6-416a-9543-e78928c9f1af",
   "metadata": {},
   "outputs": [
    {
     "name": "stdout",
     "output_type": "stream",
     "text": [
      "chi2 (1) = 3.01, p = 0.0828\n"
     ]
    }
   ],
   "source": [
    "# Chi-square test\n",
    "chi2, p, dof, expected = stats.chi2_contingency(ctab)\n",
    "print('chi2 (%i) = %.2f, p = %.4f'%(dof, chi2, p))"
   ]
  },
  {
   "cell_type": "markdown",
   "id": "e0cb0228-4ea9-4e62-bdb7-6eb9e543638a",
   "metadata": {},
   "source": [
    "Reporting result:\n",
    "\n",
    "A chi-square test of independence showed a non-significant association between treatment and PHQ-2 depression, $\\chi^{2}$(1) = 3.01, p = 0.083."
   ]
  },
  {
   "cell_type": "markdown",
   "id": "82081ee4",
   "metadata": {},
   "source": [
    "# Another example: In Framingham, test whether diabetes is associated with gender"
   ]
  },
  {
   "cell_type": "code",
   "execution_count": 71,
   "id": "b1d01586-79b8-468e-b204-01c2153f0af4",
   "metadata": {},
   "outputs": [
    {
     "name": "stdout",
     "output_type": "stream",
     "text": [
      "DIABETES     0    1\n",
      "SEX                \n",
      "1         4769  253\n",
      "2         6328  277\n"
     ]
    }
   ],
   "source": [
    "# Contingency table\n",
    "ctab = pd.crosstab(framingham[\"SEX\"], framingham[\"DIABETES\"])\n",
    "print(ctab)"
   ]
  },
  {
   "cell_type": "code",
   "execution_count": 75,
   "id": "d40e9f99-815f-41f4-971f-17c68b26eabd",
   "metadata": {},
   "outputs": [
    {
     "name": "stdout",
     "output_type": "stream",
     "text": [
      "Chi2: 4.48, dof: 1, p-value: 0.0343\n"
     ]
    }
   ],
   "source": [
    "# Chi-square test\n",
    "chi2, p, dof, expected = stats.chi2_contingency(ctab)\n",
    "print(f\"Chi2: {chi2:.2f}, dof: {dof:.0f}, p-value: {p:.4f}\")"
   ]
  },
  {
   "cell_type": "markdown",
   "id": "3cefab3f-7a32-454c-98b6-45c297a4758d",
   "metadata": {},
   "source": [
    "A chi-square test of independence showed a significant association between sex and diabetes, $\\chi^{2}$(1) = 4.48, p = 0.034."
   ]
  },
  {
   "cell_type": "code",
   "execution_count": null,
   "id": "9e97fdb0-6d0f-4267-999d-43dbafd17ff5",
   "metadata": {},
   "outputs": [],
   "source": []
  }
 ],
 "metadata": {
  "kernelspec": {
   "display_name": "Python 3 (ipykernel)",
   "language": "python",
   "name": "python3"
  },
  "language_info": {
   "codemirror_mode": {
    "name": "ipython",
    "version": 3
   },
   "file_extension": ".py",
   "mimetype": "text/x-python",
   "name": "python",
   "nbconvert_exporter": "python",
   "pygments_lexer": "ipython3",
   "version": "3.13.2"
  }
 },
 "nbformat": 4,
 "nbformat_minor": 5
}
