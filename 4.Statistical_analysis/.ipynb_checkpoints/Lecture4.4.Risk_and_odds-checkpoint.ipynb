{
 "cells": [
  {
   "cell_type": "markdown",
   "id": "44590c38",
   "metadata": {},
   "source": [
    "# Lecture 4.4: Risk Ratios, Odds Ratios, and Effect Measures"
   ]
  },
  {
   "cell_type": "markdown",
   "id": "d93e863d",
   "metadata": {},
   "source": [
    "### 🧠 Learning Objectives\n",
    "- Understand the difference between risk ratios, odds ratios, and risk differences\n",
    "- Compute and interpret effect measures from contingency tables with a binary outcome"
   ]
  },
  {
   "cell_type": "markdown",
   "id": "180a3775",
   "metadata": {},
   "source": [
    "## 🔧 Setup and Load Data"
   ]
  },
  {
   "cell_type": "code",
   "execution_count": 36,
   "id": "24c5033f",
   "metadata": {},
   "outputs": [],
   "source": [
    "import pandas as pd\n",
    "import numpy as np\n",
    "import statsmodels.api as sm\n",
    "import statsmodels.formula.api as smf\n",
    "from scipy.stats import chi2_contingency\n",
    "\n",
    "# Load OHIE data\n",
    "df = pd.read_csv(\"../Data/OHIE_12m.csv\")\n",
    "df = df.dropna(subset=[\"treatment\", \"PHQ2_cutoff\"])"
   ]
  },
  {
   "cell_type": "markdown",
   "id": "a1c289da",
   "metadata": {},
   "source": [
    "## 🎯 Risk Ratio and Risk Difference from 2x2 Table"
   ]
  },
  {
   "cell_type": "code",
   "execution_count": 37,
   "id": "8429b94f-901f-4153-ba0c-3e6640eee766",
   "metadata": {},
   "outputs": [
    {
     "name": "stdout",
     "output_type": "stream",
     "text": [
      "PHQ2_cutoff   False  True \n",
      "treatment                 \n",
      "Not selected   1322    626\n",
      "Selected       1373    575\n"
     ]
    }
   ],
   "source": [
    "# Create 2x2 table\n",
    "table = pd.crosstab(df[\"treatment\"], df[\"PHQ2_cutoff\"])\n",
    "print(table)"
   ]
  },
  {
   "cell_type": "code",
   "execution_count": 38,
   "id": "a1890337-b3e3-4982-9615-7d1071649aeb",
   "metadata": {},
   "outputs": [],
   "source": [
    "# Pull out the counts for easier computation\n",
    "a, b = table.iloc[0]\n",
    "c, d = table.iloc[1]"
   ]
  },
  {
   "cell_type": "code",
   "execution_count": 39,
   "id": "bf8b164a-bd3b-421d-ac94-70daf01f0c5d",
   "metadata": {},
   "outputs": [
    {
     "name": "stdout",
     "output_type": "stream",
     "text": [
      "0.2951745379876797 0.3213552361396304\n"
     ]
    }
   ],
   "source": [
    "risk_treated = d / (c + d)\n",
    "risk_control = b / (a + b)\n",
    "print(risk_treated, risk_control)"
   ]
  },
  {
   "cell_type": "code",
   "execution_count": 40,
   "id": "0f12e354-2cfd-4b92-9c2f-3f4f83c30d33",
   "metadata": {},
   "outputs": [
    {
     "name": "stdout",
     "output_type": "stream",
     "text": [
      "Risk Ratio: 0.92, Risk Difference: -0.026\n"
     ]
    }
   ],
   "source": [
    "rr = risk_treated / risk_control\n",
    "rd = risk_treated - risk_control\n",
    "print(f\"Risk Ratio: {rr:.2f}, Risk Difference: {rd:.3f}\")"
   ]
  },
  {
   "cell_type": "markdown",
   "id": "b65d0add-d55c-48db-a9fe-18ec3fbff3be",
   "metadata": {},
   "source": [
    "Risk difference allows you to estimate absolute numbers of cases, so it highlights public health impact."
   ]
  },
  {
   "cell_type": "markdown",
   "id": "abd883f6",
   "metadata": {},
   "source": [
    "## 🎯 Odds Ratio from 2x2 Table"
   ]
  },
  {
   "cell_type": "code",
   "execution_count": 41,
   "id": "7335a7e3",
   "metadata": {},
   "outputs": [
    {
     "name": "stdout",
     "output_type": "stream",
     "text": [
      "Odds Ratio: 0.88\n"
     ]
    }
   ],
   "source": [
    "# Odds ratio manually\n",
    "odds_treated = d / c\n",
    "odds_control = b / a\n",
    "or_manual = odds_treated / odds_control\n",
    "print(f\"Odds Ratio: {or_manual:.2f}\")"
   ]
  },
  {
   "cell_type": "markdown",
   "id": "722df6f9-ef23-4ee2-ae3c-48a77ef2021f",
   "metadata": {},
   "source": [
    "Odds are ratio of how often something happens to how often it doesn't happen. Odds ratio is a comparison of the odds for two conditions or groups."
   ]
  }
 ],
 "metadata": {
  "kernelspec": {
   "display_name": "Python 3 (ipykernel)",
   "language": "python",
   "name": "python3"
  },
  "language_info": {
   "codemirror_mode": {
    "name": "ipython",
    "version": 3
   },
   "file_extension": ".py",
   "mimetype": "text/x-python",
   "name": "python",
   "nbconvert_exporter": "python",
   "pygments_lexer": "ipython3",
   "version": "3.13.2"
  }
 },
 "nbformat": 4,
 "nbformat_minor": 5
}
