{
 "cells": [
  {
   "cell_type": "markdown",
   "id": "ea8e700b",
   "metadata": {
    "slideshow": {
     "slide_type": "slide"
    }
   },
   "source": [
    "# Lecture 4.1: Descriptives and \"Table 1\""
   ]
  },
  {
   "cell_type": "markdown",
   "id": "8b91e5c6-404f-423e-a7c1-e7d8e68b86ff",
   "metadata": {},
   "source": [
    "## Learning objectives\n",
    "- Simulate a simple epidemiology dataset\n",
    "- Create descriptive statistics (continuous and categorical)\n",
    "- Create a \"Table 1\" using the `tableone` package"
   ]
  },
  {
   "cell_type": "code",
   "execution_count": 3,
   "id": "60e08f61-caa5-4d81-972c-0dec34cea632",
   "metadata": {
    "scrolled": true
   },
   "outputs": [
    {
     "name": "stdout",
     "output_type": "stream",
     "text": [
      "Requirement already satisfied: tableone in /opt/anaconda3/envs/epipy101/lib/python3.13/site-packages (0.9.4)\n",
      "Requirement already satisfied: jinja2>=3.1.4 in /opt/anaconda3/envs/epipy101/lib/python3.13/site-packages (from tableone) (3.1.6)\n",
      "Requirement already satisfied: numpy>=1.19.1 in /opt/anaconda3/envs/epipy101/lib/python3.13/site-packages (from tableone) (2.2.4)\n",
      "Requirement already satisfied: openpyxl>=3.1.2 in /opt/anaconda3/envs/epipy101/lib/python3.13/site-packages (from tableone) (3.1.5)\n",
      "Requirement already satisfied: pandas>=2.0.3 in /opt/anaconda3/envs/epipy101/lib/python3.13/site-packages (from tableone) (2.2.3)\n",
      "Requirement already satisfied: scipy>=1.10.1 in /opt/anaconda3/envs/epipy101/lib/python3.13/site-packages (from tableone) (1.15.2)\n",
      "Requirement already satisfied: statsmodels>=0.14.1 in /opt/anaconda3/envs/epipy101/lib/python3.13/site-packages (from tableone) (0.14.4)\n",
      "Requirement already satisfied: tabulate>=0.9.0 in /opt/anaconda3/envs/epipy101/lib/python3.13/site-packages (from tableone) (0.9.0)\n",
      "Requirement already satisfied: MarkupSafe>=2.0 in /opt/anaconda3/envs/epipy101/lib/python3.13/site-packages (from jinja2>=3.1.4->tableone) (3.0.2)\n",
      "Requirement already satisfied: et-xmlfile in /opt/anaconda3/envs/epipy101/lib/python3.13/site-packages (from openpyxl>=3.1.2->tableone) (2.0.0)\n",
      "Requirement already satisfied: python-dateutil>=2.8.2 in /opt/anaconda3/envs/epipy101/lib/python3.13/site-packages (from pandas>=2.0.3->tableone) (2.9.0.post0)\n",
      "Requirement already satisfied: pytz>=2020.1 in /opt/anaconda3/envs/epipy101/lib/python3.13/site-packages (from pandas>=2.0.3->tableone) (2025.2)\n",
      "Requirement already satisfied: tzdata>=2022.7 in /opt/anaconda3/envs/epipy101/lib/python3.13/site-packages (from pandas>=2.0.3->tableone) (2025.2)\n",
      "Requirement already satisfied: patsy>=0.5.6 in /opt/anaconda3/envs/epipy101/lib/python3.13/site-packages (from statsmodels>=0.14.1->tableone) (1.0.1)\n",
      "Requirement already satisfied: packaging>=21.3 in /opt/anaconda3/envs/epipy101/lib/python3.13/site-packages (from statsmodels>=0.14.1->tableone) (24.2)\n",
      "Requirement already satisfied: six>=1.5 in /opt/anaconda3/envs/epipy101/lib/python3.13/site-packages (from python-dateutil>=2.8.2->pandas>=2.0.3->tableone) (1.17.0)\n"
     ]
    }
   ],
   "source": [
    "# 1. Install Required Package\n",
    "!pip install tableone"
   ]
  },
  {
   "cell_type": "code",
   "execution_count": 4,
   "id": "8fe00bcc-8ddc-4832-a348-277dc1d544df",
   "metadata": {},
   "outputs": [],
   "source": [
    "# 2. Import Libraries\n",
    "import pandas as pd\n",
    "import numpy as np\n",
    "from tableone import TableOne"
   ]
  },
  {
   "cell_type": "code",
   "execution_count": 5,
   "id": "7a0d7e1c-9b6f-4482-821c-cb1b45ecef93",
   "metadata": {},
   "outputs": [
    {
     "data": {
      "text/html": [
       "<div>\n",
       "<style scoped>\n",
       "    .dataframe tbody tr th:only-of-type {\n",
       "        vertical-align: middle;\n",
       "    }\n",
       "\n",
       "    .dataframe tbody tr th {\n",
       "        vertical-align: top;\n",
       "    }\n",
       "\n",
       "    .dataframe thead th {\n",
       "        text-align: right;\n",
       "    }\n",
       "</style>\n",
       "<table border=\"1\" class=\"dataframe\">\n",
       "  <thead>\n",
       "    <tr style=\"text-align: right;\">\n",
       "      <th></th>\n",
       "      <th>age</th>\n",
       "      <th>sex</th>\n",
       "      <th>bmi</th>\n",
       "      <th>smoker</th>\n",
       "      <th>group</th>\n",
       "    </tr>\n",
       "  </thead>\n",
       "  <tbody>\n",
       "    <tr>\n",
       "      <th>0</th>\n",
       "      <td>49.1</td>\n",
       "      <td>Female</td>\n",
       "      <td>19.8</td>\n",
       "      <td>No</td>\n",
       "      <td>Treatment</td>\n",
       "    </tr>\n",
       "    <tr>\n",
       "      <th>1</th>\n",
       "      <td>57.3</td>\n",
       "      <td>Male</td>\n",
       "      <td>30.8</td>\n",
       "      <td>No</td>\n",
       "      <td>Treatment</td>\n",
       "    </tr>\n",
       "    <tr>\n",
       "      <th>2</th>\n",
       "      <td>35.6</td>\n",
       "      <td>Female</td>\n",
       "      <td>28.2</td>\n",
       "      <td>No</td>\n",
       "      <td>Control</td>\n",
       "    </tr>\n",
       "    <tr>\n",
       "      <th>3</th>\n",
       "      <td>43.4</td>\n",
       "      <td>Male</td>\n",
       "      <td>27.6</td>\n",
       "      <td>No</td>\n",
       "      <td>Treatment</td>\n",
       "    </tr>\n",
       "    <tr>\n",
       "      <th>4</th>\n",
       "      <td>49.0</td>\n",
       "      <td>Female</td>\n",
       "      <td>29.9</td>\n",
       "      <td>No</td>\n",
       "      <td>Treatment</td>\n",
       "    </tr>\n",
       "  </tbody>\n",
       "</table>\n",
       "</div>"
      ],
      "text/plain": [
       "    age     sex   bmi smoker      group\n",
       "0  49.1  Female  19.8     No  Treatment\n",
       "1  57.3    Male  30.8     No  Treatment\n",
       "2  35.6  Female  28.2     No    Control\n",
       "3  43.4    Male  27.6     No  Treatment\n",
       "4  49.0  Female  29.9     No  Treatment"
      ]
     },
     "execution_count": 5,
     "metadata": {},
     "output_type": "execute_result"
    }
   ],
   "source": [
    "# 3. Simulate Example Data\n",
    "np.random.seed(2025)\n",
    "n = 500\n",
    "data = pd.DataFrame({\n",
    "    'age': np.random.normal(50, 10, n).round(1),           # age in years\n",
    "    'sex': np.random.choice(['Male', 'Female'], size=n),    # binary sex\n",
    "    'bmi': np.random.normal(27, 5, n).round(1),             # body mass index\n",
    "    'smoker': np.random.choice(['Yes', 'No'], size=n, p=[0.2, 0.8]),  # smoker status\n",
    "    'group': np.random.choice(['Treatment', 'Control'], size=n)       # random group assignment\n",
    "})\n",
    "\n",
    "# Quick look at the data\n",
    "data.head()"
   ]
  },
  {
   "cell_type": "code",
   "execution_count": 6,
   "id": "70c62cce-c020-4f06-a42c-d1b3d976924a",
   "metadata": {},
   "outputs": [
    {
     "data": {
      "text/html": [
       "<div>\n",
       "<style scoped>\n",
       "    .dataframe tbody tr th:only-of-type {\n",
       "        vertical-align: middle;\n",
       "    }\n",
       "\n",
       "    .dataframe tbody tr th {\n",
       "        vertical-align: top;\n",
       "    }\n",
       "\n",
       "    .dataframe thead th {\n",
       "        text-align: right;\n",
       "    }\n",
       "</style>\n",
       "<table border=\"1\" class=\"dataframe\">\n",
       "  <thead>\n",
       "    <tr style=\"text-align: right;\">\n",
       "      <th></th>\n",
       "      <th>age</th>\n",
       "      <th>bmi</th>\n",
       "    </tr>\n",
       "  </thead>\n",
       "  <tbody>\n",
       "    <tr>\n",
       "      <th>count</th>\n",
       "      <td>500.000000</td>\n",
       "      <td>500.000000</td>\n",
       "    </tr>\n",
       "    <tr>\n",
       "      <th>mean</th>\n",
       "      <td>49.395400</td>\n",
       "      <td>27.312000</td>\n",
       "    </tr>\n",
       "    <tr>\n",
       "      <th>std</th>\n",
       "      <td>9.656563</td>\n",
       "      <td>4.954597</td>\n",
       "    </tr>\n",
       "    <tr>\n",
       "      <th>min</th>\n",
       "      <td>25.600000</td>\n",
       "      <td>11.500000</td>\n",
       "    </tr>\n",
       "    <tr>\n",
       "      <th>25%</th>\n",
       "      <td>42.400000</td>\n",
       "      <td>24.075000</td>\n",
       "    </tr>\n",
       "    <tr>\n",
       "      <th>50%</th>\n",
       "      <td>49.050000</td>\n",
       "      <td>27.300000</td>\n",
       "    </tr>\n",
       "    <tr>\n",
       "      <th>75%</th>\n",
       "      <td>56.525000</td>\n",
       "      <td>30.500000</td>\n",
       "    </tr>\n",
       "    <tr>\n",
       "      <th>max</th>\n",
       "      <td>79.100000</td>\n",
       "      <td>41.600000</td>\n",
       "    </tr>\n",
       "  </tbody>\n",
       "</table>\n",
       "</div>"
      ],
      "text/plain": [
       "              age         bmi\n",
       "count  500.000000  500.000000\n",
       "mean    49.395400   27.312000\n",
       "std      9.656563    4.954597\n",
       "min     25.600000   11.500000\n",
       "25%     42.400000   24.075000\n",
       "50%     49.050000   27.300000\n",
       "75%     56.525000   30.500000\n",
       "max     79.100000   41.600000"
      ]
     },
     "execution_count": 6,
     "metadata": {},
     "output_type": "execute_result"
    }
   ],
   "source": [
    "# 4. Basic Descriptive Statistics\n",
    "\n",
    "# Continuous variables\n",
    "data[['age', 'bmi']].describe()"
   ]
  },
  {
   "cell_type": "code",
   "execution_count": 8,
   "id": "99a87e08-d2aa-4c0c-b405-2ae025a32e2b",
   "metadata": {},
   "outputs": [
    {
     "data": {
      "text/plain": [
       "sex\n",
       "Male      52.0\n",
       "Female    48.0\n",
       "Name: proportion, dtype: float64"
      ]
     },
     "execution_count": 8,
     "metadata": {},
     "output_type": "execute_result"
    }
   ],
   "source": [
    "# Categorical variables\n",
    "data['sex'].value_counts(normalize=True) * 100"
   ]
  },
  {
   "cell_type": "code",
   "execution_count": 9,
   "id": "1abad6b1-40f5-4caf-b395-cfc9396af012",
   "metadata": {},
   "outputs": [
    {
     "data": {
      "text/plain": [
       "smoker\n",
       "No     80.2\n",
       "Yes    19.8\n",
       "Name: proportion, dtype: float64"
      ]
     },
     "execution_count": 9,
     "metadata": {},
     "output_type": "execute_result"
    }
   ],
   "source": [
    "data['smoker'].value_counts(normalize=True) * 100"
   ]
  },
  {
   "cell_type": "code",
   "execution_count": 10,
   "id": "a4fb6cef-f25b-4279-a8c2-2ae8dc74ad34",
   "metadata": {},
   "outputs": [
    {
     "data": {
      "text/plain": [
       "group\n",
       "Treatment    50.2\n",
       "Control      49.8\n",
       "Name: proportion, dtype: float64"
      ]
     },
     "execution_count": 10,
     "metadata": {},
     "output_type": "execute_result"
    }
   ],
   "source": [
    "data['group'].value_counts(normalize=True) * 100"
   ]
  },
  {
   "cell_type": "markdown",
   "id": "c5af4271-98ba-4710-bffa-727a1d3f1242",
   "metadata": {},
   "source": [
    "## Creating a table 1"
   ]
  },
  {
   "cell_type": "code",
   "execution_count": 16,
   "id": "90a1a9fb-a2d4-4973-a86a-987031401760",
   "metadata": {},
   "outputs": [
    {
     "data": {
      "text/html": [
       "<div>\n",
       "<style scoped>\n",
       "    .dataframe tbody tr th:only-of-type {\n",
       "        vertical-align: middle;\n",
       "    }\n",
       "\n",
       "    .dataframe tbody tr th {\n",
       "        vertical-align: top;\n",
       "    }\n",
       "\n",
       "    .dataframe thead tr th {\n",
       "        text-align: left;\n",
       "    }\n",
       "</style>\n",
       "<table border=\"1\" class=\"dataframe\">\n",
       "  <thead>\n",
       "    <tr>\n",
       "      <th></th>\n",
       "      <th></th>\n",
       "      <th colspan=\"4\" halign=\"left\">Grouped by group</th>\n",
       "    </tr>\n",
       "    <tr>\n",
       "      <th></th>\n",
       "      <th></th>\n",
       "      <th>Missing</th>\n",
       "      <th>Overall</th>\n",
       "      <th>Control</th>\n",
       "      <th>Treatment</th>\n",
       "    </tr>\n",
       "  </thead>\n",
       "  <tbody>\n",
       "    <tr>\n",
       "      <th>n</th>\n",
       "      <th></th>\n",
       "      <td></td>\n",
       "      <td>500</td>\n",
       "      <td>249</td>\n",
       "      <td>251</td>\n",
       "    </tr>\n",
       "    <tr>\n",
       "      <th>age, mean (SD)</th>\n",
       "      <th></th>\n",
       "      <td>0</td>\n",
       "      <td>49.4 (9.7)</td>\n",
       "      <td>49.2 (9.6)</td>\n",
       "      <td>49.5 (9.7)</td>\n",
       "    </tr>\n",
       "    <tr>\n",
       "      <th rowspan=\"2\" valign=\"top\">sex, n (%)</th>\n",
       "      <th>Female</th>\n",
       "      <td></td>\n",
       "      <td>240 (48.0)</td>\n",
       "      <td>124 (49.8)</td>\n",
       "      <td>116 (46.2)</td>\n",
       "    </tr>\n",
       "    <tr>\n",
       "      <th>Male</th>\n",
       "      <td></td>\n",
       "      <td>260 (52.0)</td>\n",
       "      <td>125 (50.2)</td>\n",
       "      <td>135 (53.8)</td>\n",
       "    </tr>\n",
       "    <tr>\n",
       "      <th>bmi, mean (SD)</th>\n",
       "      <th></th>\n",
       "      <td>0</td>\n",
       "      <td>27.3 (5.0)</td>\n",
       "      <td>27.5 (5.0)</td>\n",
       "      <td>27.1 (4.9)</td>\n",
       "    </tr>\n",
       "    <tr>\n",
       "      <th rowspan=\"2\" valign=\"top\">smoker, n (%)</th>\n",
       "      <th>No</th>\n",
       "      <td></td>\n",
       "      <td>401 (80.2)</td>\n",
       "      <td>202 (81.1)</td>\n",
       "      <td>199 (79.3)</td>\n",
       "    </tr>\n",
       "    <tr>\n",
       "      <th>Yes</th>\n",
       "      <td></td>\n",
       "      <td>99 (19.8)</td>\n",
       "      <td>47 (18.9)</td>\n",
       "      <td>52 (20.7)</td>\n",
       "    </tr>\n",
       "  </tbody>\n",
       "</table>\n",
       "</div><br />"
      ],
      "text/plain": [
       "                      Grouped by group                                    \n",
       "                               Missing     Overall     Control   Treatment\n",
       "n                                              500         249         251\n",
       "age, mean (SD)                       0  49.4 (9.7)  49.2 (9.6)  49.5 (9.7)\n",
       "sex, n (%)     Female                   240 (48.0)  124 (49.8)  116 (46.2)\n",
       "               Male                     260 (52.0)  125 (50.2)  135 (53.8)\n",
       "bmi, mean (SD)                       0  27.3 (5.0)  27.5 (5.0)  27.1 (4.9)\n",
       "smoker, n (%)  No                       401 (80.2)  202 (81.1)  199 (79.3)\n",
       "               Yes                       99 (19.8)   47 (18.9)   52 (20.7)"
      ]
     },
     "execution_count": 16,
     "metadata": {},
     "output_type": "execute_result"
    }
   ],
   "source": [
    "# Define variables of interest\n",
    "columns = ['age', 'sex', 'bmi', 'smoker']\n",
    "categorical = ['sex', 'smoker']\n",
    "groupby = 'group'\n",
    "\n",
    "# Create TableOne object\n",
    "table1 = TableOne(data, columns=columns, categorical=categorical, groupby=groupby) # Toggle pval\n",
    "# table1 = TableOne(data, columns=columns, categorical=categorical, groupby=groupby, pval=True) # Toggle pval\n",
    "\n",
    "# View Table 1\n",
    "table1"
   ]
  },
  {
   "cell_type": "code",
   "execution_count": 17,
   "id": "89d33b77-b7a2-446a-a0f3-5eb5f770d27d",
   "metadata": {},
   "outputs": [],
   "source": [
    "# 6. Export Table 1 to CSV (optional)\n",
    "table1.to_csv('table1.csv')"
   ]
  }
 ],
 "metadata": {
  "kernelspec": {
   "display_name": "Python 3 (ipykernel)",
   "language": "python",
   "name": "python3"
  },
  "language_info": {
   "codemirror_mode": {
    "name": "ipython",
    "version": 3
   },
   "file_extension": ".py",
   "mimetype": "text/x-python",
   "name": "python",
   "nbconvert_exporter": "python",
   "pygments_lexer": "ipython3",
   "version": "3.13.2"
  }
 },
 "nbformat": 4,
 "nbformat_minor": 5
}
