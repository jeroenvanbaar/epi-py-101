{
 "cells": [
  {
   "cell_type": "markdown",
   "id": "c0fb6afc",
   "metadata": {},
   "source": [
    "# Exercise Set: Descriptives and comparing groups"
   ]
  },
  {
   "cell_type": "markdown",
   "id": "aa2c0834",
   "metadata": {},
   "source": [
    "### Estimated Time: 45 minutes\n",
    "\n",
    "In this exercise, you will:\n",
    "- Use descriptive statistics to create convenient sample descriptions (table 1)\n",
    "- Compare means and proportions between groups\n",
    "- Apply your analyses to the Framingham dataset"
   ]
  },
  {
   "cell_type": "markdown",
   "id": "faa1002e-4ae7-4798-836d-8ebe3f38927e",
   "metadata": {},
   "source": [
    "# Prepare"
   ]
  },
  {
   "cell_type": "markdown",
   "id": "9879b605-97a7-4fa6-ac64-995d9134d60b",
   "metadata": {},
   "source": [
    "Load the required packages (numpy, pandas, scipy.stats, matplotlib, seaborn, and tableone)"
   ]
  },
  {
   "cell_type": "code",
   "execution_count": 1,
   "id": "470e98b4-ff45-488f-b1e2-296a384d81e5",
   "metadata": {},
   "outputs": [],
   "source": [
    "# Your code here"
   ]
  },
  {
   "cell_type": "markdown",
   "id": "ffb3f7a7-0f01-4a18-af43-261647ef0071",
   "metadata": {},
   "source": [
    "Mount your Google Drive folder to the Colab environment"
   ]
  },
  {
   "cell_type": "code",
   "execution_count": null,
   "id": "dc933dd0-71f8-4638-9c5c-898d7df73fed",
   "metadata": {},
   "outputs": [],
   "source": [
    "# Your code here"
   ]
  },
  {
   "cell_type": "markdown",
   "id": "8e09f1a0",
   "metadata": {},
   "source": [
    "## 1. Descriptives"
   ]
  },
  {
   "cell_type": "markdown",
   "id": "0207a72c-d90e-46b9-974b-3a6f15ffcd41",
   "metadata": {},
   "source": [
    "Load the Framingham dataset"
   ]
  },
  {
   "cell_type": "code",
   "execution_count": null,
   "id": "a78de196-3411-4808-966b-fd1a8a8d8984",
   "metadata": {},
   "outputs": [],
   "source": [
    "# Your code here"
   ]
  },
  {
   "cell_type": "markdown",
   "id": "70e1eadf-e647-4eda-a3f2-f7098a846b30",
   "metadata": {},
   "source": [
    "Create a 'table 1' that has information on the sex, age, and education level. Make sure age is reported with mean and SD instead of as separate counts for each age level; you can manipulate this using the `categorical` and `continuous` parameters in the `TableOne` function."
   ]
  },
  {
   "cell_type": "code",
   "execution_count": null,
   "id": "35a55015-c485-463a-8b45-221432f38c3a",
   "metadata": {},
   "outputs": [],
   "source": [
    "# Your code here"
   ]
  },
  {
   "cell_type": "markdown",
   "id": "670b7e47-67f3-4dd1-99b0-d20bbcc5a4b3",
   "metadata": {},
   "source": [
    "## 2. Comparing means in Framingham heart study"
   ]
  },
  {
   "cell_type": "markdown",
   "id": "5bd5f482-38e4-4504-8281-284df8620afa",
   "metadata": {},
   "source": [
    "Use an independent-samples t-test to compare systolic and diastolic blood pressure **at the first observation for each person** between men and women. Start by producing appropriate tables and plots showing the means and/or distributions in each sex. SEX is coded 1 (men) and 2 (women). Hint: select the first observation for each participant by using `.groupby(RANDID)` and then using the method `.first()` on each group."
   ]
  },
  {
   "cell_type": "code",
   "execution_count": 31,
   "id": "f3991b2c-910c-4921-86bf-a15281b102b7",
   "metadata": {},
   "outputs": [],
   "source": [
    "# Your code here"
   ]
  },
  {
   "cell_type": "markdown",
   "id": "bb7a70cc-dfc6-429f-9ce3-714f44751e27",
   "metadata": {},
   "source": [
    "## Comparing proportions"
   ]
  },
  {
   "cell_type": "markdown",
   "id": "8a18a0e6-a619-48cd-a947-7e6dc7d205e1",
   "metadata": {},
   "source": [
    "Use a chi-square test to compare the prevalence in coronary heart disease (`PREVCHD`) between men and women of 60 years or older."
   ]
  },
  {
   "cell_type": "code",
   "execution_count": 44,
   "id": "a2bac457-7b1c-49e8-a040-92a4d77f7789",
   "metadata": {},
   "outputs": [],
   "source": [
    "# Your code here"
   ]
  }
 ],
 "metadata": {
  "kernelspec": {
   "display_name": "Python 3 (ipykernel)",
   "language": "python",
   "name": "python3"
  },
  "language_info": {
   "codemirror_mode": {
    "name": "ipython",
    "version": 3
   },
   "file_extension": ".py",
   "mimetype": "text/x-python",
   "name": "python",
   "nbconvert_exporter": "python",
   "pygments_lexer": "ipython3",
   "version": "3.13.2"
  }
 },
 "nbformat": 4,
 "nbformat_minor": 5
}
