{
 "cells": [
  {
   "cell_type": "markdown",
   "id": "56177f97",
   "metadata": {},
   "source": [
    "# Exercise Set: Linear and Logistic Regression"
   ]
  },
  {
   "cell_type": "markdown",
   "id": "5a4b1a8b-18ec-4eb4-a000-e9408a5e2fad",
   "metadata": {},
   "source": [
    "## Setup"
   ]
  },
  {
   "cell_type": "markdown",
   "id": "8e85c267-b798-44cd-a03e-31ad7f6a54c4",
   "metadata": {},
   "source": [
    "Load packages"
   ]
  },
  {
   "cell_type": "code",
   "execution_count": 1,
   "id": "8111abd8-b98b-49b5-b889-9e532f87eb94",
   "metadata": {},
   "outputs": [],
   "source": [
    "# Your code here"
   ]
  },
  {
   "cell_type": "markdown",
   "id": "8cea142b-2e7e-48a8-88a9-f8ac645bcb8c",
   "metadata": {},
   "source": [
    "Mount Google Drive / load Framingham data"
   ]
  },
  {
   "cell_type": "code",
   "execution_count": 2,
   "id": "dbf4b42c-a567-402d-85a5-c656190c2c5f",
   "metadata": {},
   "outputs": [],
   "source": [
    "# Your code here"
   ]
  },
  {
   "cell_type": "markdown",
   "id": "289d18ab-b633-4711-833e-cd0d35e92570",
   "metadata": {},
   "source": [
    "## 1. Modeling total cholesterol in the Framingham study"
   ]
  },
  {
   "cell_type": "markdown",
   "id": "91c0c232-085d-4362-a449-d3cd0c3eb7f6",
   "metadata": {},
   "source": [
    "Is there an association between BMI and total cholesterol? Is this relationship different for people with and without diabetes? First graph the relationship, then test it in a multiple linear regression. Hint: consider modeling an interaction effect."
   ]
  },
  {
   "cell_type": "code",
   "execution_count": 3,
   "id": "177bfb94-e58c-4f91-8b5a-584e2f827b16",
   "metadata": {},
   "outputs": [],
   "source": [
    "# Your code here"
   ]
  },
  {
   "cell_type": "markdown",
   "id": "bc3bd9c6",
   "metadata": {},
   "source": [
    "## 2. Relationship between diabetes and stroke"
   ]
  },
  {
   "cell_type": "markdown",
   "id": "24436f70-8778-4e68-ae92-4eeff78f7bb0",
   "metadata": {},
   "source": [
    "For all following exercises, we will only investigate the most recent observation for each participant, so you should create a new dataframe that contains only those. Then answer the following questions:\n",
    "\n",
    "- What is the risk of having ever had any coronary heart disease (`ANYCHD`) among those with diabetes?\n",
    "- What's the risk among those without diabetes?\n",
    "- What are the risk ratio, risk difference, and odds ratio? Use the 'manual' calculation of effect measures for this as shown in lecture 4.4."
   ]
  },
  {
   "cell_type": "code",
   "execution_count": 5,
   "id": "7c7ee75d-e676-4b7b-ab25-6101fc87ec43",
   "metadata": {},
   "outputs": [],
   "source": [
    "# Your code here"
   ]
  },
  {
   "cell_type": "markdown",
   "id": "c448abf7-f047-4b57-bf8b-4ba1f1efd56a",
   "metadata": {},
   "source": [
    "## 3. Logistic regression"
   ]
  },
  {
   "cell_type": "markdown",
   "id": "fe770e0b-39c7-49a5-b3c6-444e154b88c4",
   "metadata": {},
   "source": [
    "Compute the odds ratio again, now using logistic regression. Do this by modeling `ANYCHD` as a function of `DIABETES` using `smf.logit()`."
   ]
  },
  {
   "cell_type": "code",
   "execution_count": 7,
   "id": "23917bce-707d-4ec4-b926-d523c2dbb367",
   "metadata": {},
   "outputs": [],
   "source": [
    "# Your code here"
   ]
  },
  {
   "cell_type": "markdown",
   "id": "c6b4a24d-e556-48fa-aba1-8019ef5f45cc",
   "metadata": {},
   "source": [
    "The obtained OR should match the one you got when manually computing it."
   ]
  },
  {
   "cell_type": "markdown",
   "id": "18483ab5-28cf-4dcd-ad78-f7c20ed7ff4c",
   "metadata": {},
   "source": [
    "Now run the logistic regression again, controlling for systolic blood pressure, age, and sex. What do you notice?"
   ]
  },
  {
   "cell_type": "code",
   "execution_count": 8,
   "id": "14388ab4-10a7-4322-9a13-2f40f632f7cc",
   "metadata": {},
   "outputs": [],
   "source": [
    "# Your code here"
   ]
  }
 ],
 "metadata": {
  "kernelspec": {
   "display_name": "Python 3 (ipykernel)",
   "language": "python",
   "name": "python3"
  },
  "language_info": {
   "codemirror_mode": {
    "name": "ipython",
    "version": 3
   },
   "file_extension": ".py",
   "mimetype": "text/x-python",
   "name": "python",
   "nbconvert_exporter": "python",
   "pygments_lexer": "ipython3",
   "version": "3.13.2"
  }
 },
 "nbformat": 4,
 "nbformat_minor": 5
}
