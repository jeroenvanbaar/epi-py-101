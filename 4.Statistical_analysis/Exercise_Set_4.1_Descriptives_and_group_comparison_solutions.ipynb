{
 "cells": [
  {
   "cell_type": "markdown",
   "id": "c0fb6afc",
   "metadata": {},
   "source": [
    "# Exercise Set: Descriptives and comparing groups"
   ]
  },
  {
   "cell_type": "markdown",
   "id": "aa2c0834",
   "metadata": {},
   "source": [
    "### Estimated Time: 45 minutes\n",
    "\n",
    "In this exercise, you will:\n",
    "- Use descriptive statistics to create convenient sample descriptions (table 1)\n",
    "- Compare means and proportions between groups\n",
    "- Apply your analyses to the Framingham dataset"
   ]
  },
  {
   "cell_type": "markdown",
   "id": "faa1002e-4ae7-4798-836d-8ebe3f38927e",
   "metadata": {},
   "source": [
    "# Prepare"
   ]
  },
  {
   "cell_type": "markdown",
   "id": "9879b605-97a7-4fa6-ac64-995d9134d60b",
   "metadata": {},
   "source": [
    "Load the required packages (numpy, pandas, scipy.stats, matplotlib, seaborn, and tableone)"
   ]
  },
  {
   "cell_type": "code",
   "execution_count": null,
   "id": "470e98b4-ff45-488f-b1e2-296a384d81e5",
   "metadata": {},
   "outputs": [],
   "source": [
    "# If needed:\n",
    "!pip install tableone"
   ]
  },
  {
   "cell_type": "code",
   "execution_count": 2,
   "id": "1d11accb-13db-4df4-be4a-f58d577b7d18",
   "metadata": {},
   "outputs": [],
   "source": [
    "import numpy as np\n",
    "import pandas as pd\n",
    "import scipy.stats as stats\n",
    "import seaborn as sns\n",
    "import matplotlib.pyplot as plt\n",
    "import tableone"
   ]
  },
  {
   "cell_type": "markdown",
   "id": "ffb3f7a7-0f01-4a18-af43-261647ef0071",
   "metadata": {},
   "source": [
    "Mount your Google Drive folder to the Colab environment"
   ]
  },
  {
   "cell_type": "code",
   "execution_count": null,
   "id": "64c51a0b-21e7-4a08-942c-e125bc0c3fa1",
   "metadata": {},
   "outputs": [],
   "source": [
    "# Make Google Drive available to the script\n",
    "from google.colab import drive\n",
    "drive.mount('/content/drive')"
   ]
  },
  {
   "cell_type": "markdown",
   "id": "8e09f1a0",
   "metadata": {},
   "source": [
    "## 1. Descriptives"
   ]
  },
  {
   "cell_type": "markdown",
   "id": "0207a72c-d90e-46b9-974b-3a6f15ffcd41",
   "metadata": {},
   "source": [
    "Load the Framingham dataset"
   ]
  },
  {
   "cell_type": "code",
   "execution_count": null,
   "id": "72fd742c-05a3-42ac-bc2f-95172dab2197",
   "metadata": {},
   "outputs": [],
   "source": [
    "frame = pd.read_csv('drive/MyDrive/Colab Notebooks/Intro to Python for Epidemiologists/Data/frmgham2.csv')"
   ]
  },
  {
   "cell_type": "markdown",
   "id": "70e1eadf-e647-4eda-a3f2-f7098a846b30",
   "metadata": {},
   "source": [
    "Create a 'table 1' that has information on the sex, age, and education level. Make sure age is reported with mean and SD instead of as separate counts for each age level; you can manipulate this using the `categorical` and `continuous` parameters in the `TableOne` function."
   ]
  },
  {
   "cell_type": "code",
   "execution_count": 51,
   "id": "ea4e036b-49df-4af3-b05a-617ca09b1a4a",
   "metadata": {},
   "outputs": [
    {
     "data": {
      "text/html": [
       "<div>\n",
       "<style scoped>\n",
       "    .dataframe tbody tr th:only-of-type {\n",
       "        vertical-align: middle;\n",
       "    }\n",
       "\n",
       "    .dataframe tbody tr th {\n",
       "        vertical-align: top;\n",
       "    }\n",
       "\n",
       "    .dataframe thead th {\n",
       "        text-align: right;\n",
       "    }\n",
       "</style>\n",
       "<table border=\"1\" class=\"dataframe\">\n",
       "  <thead>\n",
       "    <tr style=\"text-align: right;\">\n",
       "      <th></th>\n",
       "      <th></th>\n",
       "      <th>Missing</th>\n",
       "      <th>Overall</th>\n",
       "    </tr>\n",
       "  </thead>\n",
       "  <tbody>\n",
       "    <tr>\n",
       "      <th>n</th>\n",
       "      <th></th>\n",
       "      <td></td>\n",
       "      <td>11627</td>\n",
       "    </tr>\n",
       "    <tr>\n",
       "      <th rowspan=\"2\" valign=\"top\">SEX, n (%)</th>\n",
       "      <th>1</th>\n",
       "      <td></td>\n",
       "      <td>5022 (43.2)</td>\n",
       "    </tr>\n",
       "    <tr>\n",
       "      <th>2</th>\n",
       "      <td></td>\n",
       "      <td>6605 (56.8)</td>\n",
       "    </tr>\n",
       "    <tr>\n",
       "      <th>AGE, mean (SD)</th>\n",
       "      <th></th>\n",
       "      <td>0</td>\n",
       "      <td>54.8 (9.6)</td>\n",
       "    </tr>\n",
       "    <tr>\n",
       "      <th rowspan=\"5\" valign=\"top\">educ, n (%)</th>\n",
       "      <th>1.0</th>\n",
       "      <td></td>\n",
       "      <td>4690 (40.3)</td>\n",
       "    </tr>\n",
       "    <tr>\n",
       "      <th>2.0</th>\n",
       "      <td></td>\n",
       "      <td>3410 (29.3)</td>\n",
       "    </tr>\n",
       "    <tr>\n",
       "      <th>3.0</th>\n",
       "      <td></td>\n",
       "      <td>1885 (16.2)</td>\n",
       "    </tr>\n",
       "    <tr>\n",
       "      <th>4.0</th>\n",
       "      <td></td>\n",
       "      <td>1347 (11.6)</td>\n",
       "    </tr>\n",
       "    <tr>\n",
       "      <th>None</th>\n",
       "      <td></td>\n",
       "      <td>295 (2.5)</td>\n",
       "    </tr>\n",
       "  </tbody>\n",
       "</table>\n",
       "</div><br />"
      ],
      "text/plain": [
       "                    Missing      Overall\n",
       "n                                  11627\n",
       "SEX, n (%)     1             5022 (43.2)\n",
       "               2             6605 (56.8)\n",
       "AGE, mean (SD)            0   54.8 (9.6)\n",
       "educ, n (%)    1.0           4690 (40.3)\n",
       "               2.0           3410 (29.3)\n",
       "               3.0           1885 (16.2)\n",
       "               4.0           1347 (11.6)\n",
       "               None            295 (2.5)"
      ]
     },
     "execution_count": 51,
     "metadata": {},
     "output_type": "execute_result"
    }
   ],
   "source": [
    "tableone.TableOne(data = frame, categorical = ['SEX','educ'], continuous = ['AGE'])"
   ]
  },
  {
   "cell_type": "markdown",
   "id": "670b7e47-67f3-4dd1-99b0-d20bbcc5a4b3",
   "metadata": {},
   "source": [
    "## 2. Comparing means in Framingham heart study"
   ]
  },
  {
   "cell_type": "markdown",
   "id": "5bd5f482-38e4-4504-8281-284df8620afa",
   "metadata": {},
   "source": [
    "Use an independent-samples t-test to compare systolic and diastolic blood pressure **at the first observation for each person** between men and women. Start by producing appropriate tables and plots showing the means and/or distributions in each sex. SEX is coded 1 (men) and 2 (women). Hint: select the first observation for each participant by using `.groupby(RANDID)` and then using the method `.first()` on each group."
   ]
  },
  {
   "cell_type": "code",
   "execution_count": 31,
   "id": "f3991b2c-910c-4921-86bf-a15281b102b7",
   "metadata": {},
   "outputs": [],
   "source": [
    "first_obs = frame.groupby('RANDID').first()"
   ]
  },
  {
   "cell_type": "code",
   "execution_count": 32,
   "id": "a66d99e7-81a8-478b-8be2-1ef23903e098",
   "metadata": {},
   "outputs": [
    {
     "data": {
      "text/html": [
       "<div>\n",
       "<style scoped>\n",
       "    .dataframe tbody tr th:only-of-type {\n",
       "        vertical-align: middle;\n",
       "    }\n",
       "\n",
       "    .dataframe tbody tr th {\n",
       "        vertical-align: top;\n",
       "    }\n",
       "\n",
       "    .dataframe thead tr th {\n",
       "        text-align: left;\n",
       "    }\n",
       "</style>\n",
       "<table border=\"1\" class=\"dataframe\">\n",
       "  <thead>\n",
       "    <tr>\n",
       "      <th></th>\n",
       "      <th></th>\n",
       "      <th colspan=\"4\" halign=\"left\">Grouped by SEX</th>\n",
       "    </tr>\n",
       "    <tr>\n",
       "      <th></th>\n",
       "      <th></th>\n",
       "      <th>Missing</th>\n",
       "      <th>Overall</th>\n",
       "      <th>1</th>\n",
       "      <th>2</th>\n",
       "    </tr>\n",
       "  </thead>\n",
       "  <tbody>\n",
       "    <tr>\n",
       "      <th>n</th>\n",
       "      <th></th>\n",
       "      <td></td>\n",
       "      <td>4434</td>\n",
       "      <td>1944</td>\n",
       "      <td>2490</td>\n",
       "    </tr>\n",
       "    <tr>\n",
       "      <th>SYSBP, mean (SD)</th>\n",
       "      <th></th>\n",
       "      <td>0</td>\n",
       "      <td>132.9 (22.4)</td>\n",
       "      <td>131.7 (19.4)</td>\n",
       "      <td>133.8 (24.5)</td>\n",
       "    </tr>\n",
       "    <tr>\n",
       "      <th>DIABP, mean (SD)</th>\n",
       "      <th></th>\n",
       "      <td>0</td>\n",
       "      <td>83.1 (12.1)</td>\n",
       "      <td>83.7 (11.4)</td>\n",
       "      <td>82.6 (12.5)</td>\n",
       "    </tr>\n",
       "  </tbody>\n",
       "</table>\n",
       "</div><br />"
      ],
      "text/plain": [
       "                  Grouped by SEX                                          \n",
       "                         Missing       Overall             1             2\n",
       "n                                         4434          1944          2490\n",
       "SYSBP, mean (SD)               0  132.9 (22.4)  131.7 (19.4)  133.8 (24.5)\n",
       "DIABP, mean (SD)               0   83.1 (12.1)   83.7 (11.4)   82.6 (12.5)"
      ]
     },
     "execution_count": 32,
     "metadata": {},
     "output_type": "execute_result"
    }
   ],
   "source": [
    "# Create table with outcomes\n",
    "tableone.TableOne(data = first_obs, columns = ['SYSBP','DIABP'], groupby = 'SEX')"
   ]
  },
  {
   "cell_type": "code",
   "execution_count": 33,
   "id": "1222e631-28f5-4a54-814b-6370ffef2e40",
   "metadata": {},
   "outputs": [
    {
     "data": {
      "text/plain": [
       "[Text(0.5, 1.0, 'Diastolic BP')]"
      ]
     },
     "execution_count": 33,
     "metadata": {},
     "output_type": "execute_result"
    },
    {
     "data": {
      "image/png": "[encoded data removed]",
      "text/plain": [
       "<Figure size 1000x400 with 2 Axes>"
      ]
     },
     "metadata": {},
     "output_type": "display_data"
    }
   ],
   "source": [
    "# Create figure containing both outcomes\n",
    "fig, ax = plt.subplots(nrows=1, ncols = 2, figsize = [10,4])\n",
    "# Systolic blood pressure\n",
    "sns.histplot(data = first_obs, x = 'SYSBP', hue = 'SEX', bins = 20, ax = ax[0])\n",
    "ax[0].set(title = 'Systolic BP')\n",
    "# Diastolic blood pressure\n",
    "sns.histplot(data = first_obs, x = 'DIABP', hue = 'SEX', bins = 20, ax = ax[1])\n",
    "ax[1].set(title = 'Diastolic BP')"
   ]
  },
  {
   "cell_type": "code",
   "execution_count": 34,
   "id": "c85f3ab4-576a-4a17-ab68-aa25b1381cf8",
   "metadata": {},
   "outputs": [
    {
     "name": "stdout",
     "output_type": "stream",
     "text": [
      "t(4432) = -3.08, p = 0.0021\n"
     ]
    }
   ],
   "source": [
    "# T-tests\n",
    "sysM = first_obs.loc[first_obs['SEX']==1, 'SYSBP']\n",
    "sysW = first_obs.loc[first_obs['SEX']==2, 'SYSBP']\n",
    "ttest_result_sys = stats.ttest_ind(sysM, sysW)\n",
    "print('t(%i) = %.2f, p = %.4f'%(ttest_result_sys.df, ttest_result_sys.statistic, ttest_result_sys.pvalue))"
   ]
  },
  {
   "cell_type": "markdown",
   "id": "067a778b-95eb-4079-b0e0-97fec2374216",
   "metadata": {},
   "source": [
    "An independent-samples t-test showed that there was a significant difference in systolic blood pressure between men (M = 131.7, SD = 19.4) and women (M = 133.8, SD = 24.5), t(4432) = -3.08, p = 0.002."
   ]
  },
  {
   "cell_type": "code",
   "execution_count": 35,
   "id": "be44ae8b-5760-42af-a86d-666bb1fb6f9c",
   "metadata": {},
   "outputs": [
    {
     "name": "stdout",
     "output_type": "stream",
     "text": [
      "t(4432) = 3.05, p = 0.0023\n"
     ]
    }
   ],
   "source": [
    "# T-tests\n",
    "diaM = first_obs.loc[first_obs['SEX']==1, 'DIABP']\n",
    "diaW = first_obs.loc[first_obs['SEX']==2, 'DIABP']\n",
    "ttest_result_dia = stats.ttest_ind(diaM, diaW)\n",
    "print('t(%i) = %.2f, p = %.4f'%(ttest_result_dia.df, ttest_result_dia.statistic, ttest_result_dia.pvalue))"
   ]
  },
  {
   "cell_type": "markdown",
   "id": "1d9a7ffb-1fbc-49ba-8e90-618c982f50a5",
   "metadata": {},
   "source": [
    "An independent-samples t-test showed that there was a significant difference in diastolic blood pressure between men (M = 83.7, SD = 11.4) and women (M = 82.6, SD = 12.5), t(4432) = 3.05, p = 0.002."
   ]
  },
  {
   "cell_type": "markdown",
   "id": "bb7a70cc-dfc6-429f-9ce3-714f44751e27",
   "metadata": {},
   "source": [
    "## Comparing proportions"
   ]
  },
  {
   "cell_type": "markdown",
   "id": "8a18a0e6-a619-48cd-a947-7e6dc7d205e1",
   "metadata": {},
   "source": [
    "Use a chi-square test to compare the prevalence in coronary heart disease (`PREVCHD`) between men and women of 60 years or older."
   ]
  },
  {
   "cell_type": "code",
   "execution_count": 44,
   "id": "a2bac457-7b1c-49e8-a040-92a4d77f7789",
   "metadata": {},
   "outputs": [],
   "source": [
    "frame60plus = frame.loc[frame['AGE']>=60,:]"
   ]
  },
  {
   "cell_type": "code",
   "execution_count": 49,
   "id": "5d0fc912-6e76-4086-b14a-a8e56c5e8f0b",
   "metadata": {},
   "outputs": [
    {
     "data": {
      "text/html": [
       "<div>\n",
       "<style scoped>\n",
       "    .dataframe tbody tr th:only-of-type {\n",
       "        vertical-align: middle;\n",
       "    }\n",
       "\n",
       "    .dataframe tbody tr th {\n",
       "        vertical-align: top;\n",
       "    }\n",
       "\n",
       "    .dataframe thead th {\n",
       "        text-align: right;\n",
       "    }\n",
       "</style>\n",
       "<table border=\"1\" class=\"dataframe\">\n",
       "  <thead>\n",
       "    <tr style=\"text-align: right;\">\n",
       "      <th>PREVCHD</th>\n",
       "      <th>0</th>\n",
       "      <th>1</th>\n",
       "    </tr>\n",
       "    <tr>\n",
       "      <th>SEX</th>\n",
       "      <th></th>\n",
       "      <th></th>\n",
       "    </tr>\n",
       "  </thead>\n",
       "  <tbody>\n",
       "    <tr>\n",
       "      <th>1</th>\n",
       "      <td>1285</td>\n",
       "      <td>292</td>\n",
       "    </tr>\n",
       "    <tr>\n",
       "      <th>2</th>\n",
       "      <td>1940</td>\n",
       "      <td>254</td>\n",
       "    </tr>\n",
       "  </tbody>\n",
       "</table>\n",
       "</div>"
      ],
      "text/plain": [
       "PREVCHD     0    1\n",
       "SEX               \n",
       "1        1285  292\n",
       "2        1940  254"
      ]
     },
     "execution_count": 49,
     "metadata": {},
     "output_type": "execute_result"
    }
   ],
   "source": [
    "ctab = pd.crosstab(frame60plus[\"SEX\"], frame60plus[\"PREVCHD\"])\n",
    "ctab"
   ]
  },
  {
   "cell_type": "code",
   "execution_count": 50,
   "id": "8354956d-6364-449d-9e53-d1350ca86de2",
   "metadata": {},
   "outputs": [
    {
     "name": "stdout",
     "output_type": "stream",
     "text": [
      "Chi2: 35.12, dof: 1, p-value: 0.0000\n"
     ]
    }
   ],
   "source": [
    "# Chi-square test\n",
    "chi2, p, dof, expected = stats.chi2_contingency(ctab)\n",
    "print(f\"Chi2: {chi2:.2f}, dof: {dof:.0f}, p-value: {p:.4f}\")"
   ]
  },
  {
   "cell_type": "markdown",
   "id": "3cd65f95-51d9-42f3-8cb8-79811715d5fc",
   "metadata": {},
   "source": [
    "A chi-square test of independence showed a significant association between sex and coronary heart disease in participants 60 or older, $\\chi^{2}$(1) = 35.12, p < 0.001."
   ]
  }
 ],
 "metadata": {
  "kernelspec": {
   "display_name": "Python 3 (ipykernel)",
   "language": "python",
   "name": "python3"
  },
  "language_info": {
   "codemirror_mode": {
    "name": "ipython",
    "version": 3
   },
   "file_extension": ".py",
   "mimetype": "text/x-python",
   "name": "python",
   "nbconvert_exporter": "python",
   "pygments_lexer": "ipython3",
   "version": "3.13.2"
  }
 },
 "nbformat": 4,
 "nbformat_minor": 5
}
