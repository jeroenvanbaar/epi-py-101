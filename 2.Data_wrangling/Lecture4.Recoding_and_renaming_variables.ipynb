{
 "cells": [
  {
   "cell_type": "markdown",
   "id": "4806ab18-3c3e-426b-8562-9e9206875abc",
   "metadata": {},
   "source": [
    "# Learning objectives\n",
    "- Orient on the Oregon dataset\n",
    "- Recode variables using .replace\n",
    "- Define ordered categorical variables\n",
    "- Rename variables"
   ]
  },
  {
   "cell_type": "code",
   "execution_count": 1,
   "id": "241da558-546a-4a0e-801c-cb453737bbc6",
   "metadata": {},
   "outputs": [],
   "source": [
    "import numpy as np\n",
    "import pandas as pd"
   ]
  },
  {
   "cell_type": "code",
   "execution_count": 3,
   "id": "c3d6c8bf-11b0-4db3-9fde-0e00cec43446",
   "metadata": {},
   "outputs": [
    {
     "data": {
      "text/html": [
       "<div>\n",
       "<style scoped>\n",
       "    .dataframe tbody tr th:only-of-type {\n",
       "        vertical-align: middle;\n",
       "    }\n",
       "\n",
       "    .dataframe tbody tr th {\n",
       "        vertical-align: top;\n",
       "    }\n",
       "\n",
       "    .dataframe thead th {\n",
       "        text-align: right;\n",
       "    }\n",
       "</style>\n",
       "<table border=\"1\" class=\"dataframe\">\n",
       "  <thead>\n",
       "    <tr style=\"text-align: right;\">\n",
       "      <th></th>\n",
       "      <th>person_id</th>\n",
       "      <th>household_id</th>\n",
       "      <th>treatment</th>\n",
       "      <th>draw_treat</th>\n",
       "      <th>draw_lottery</th>\n",
       "      <th>applied_app</th>\n",
       "      <th>approved_app</th>\n",
       "      <th>dt_notify_lottery</th>\n",
       "      <th>dt_retro_coverage</th>\n",
       "      <th>birthyear_list</th>\n",
       "      <th>...</th>\n",
       "      <th>live_partner_12m</th>\n",
       "      <th>live_parents_12m</th>\n",
       "      <th>live_friends_12m</th>\n",
       "      <th>live_relatives_12m</th>\n",
       "      <th>live_other_12m</th>\n",
       "      <th>hhsize_12m</th>\n",
       "      <th>PHQ2_1</th>\n",
       "      <th>PHQ2_2</th>\n",
       "      <th>PHQ2_sum</th>\n",
       "      <th>PHQ2_cutoff</th>\n",
       "    </tr>\n",
       "  </thead>\n",
       "  <tbody>\n",
       "    <tr>\n",
       "      <th>0</th>\n",
       "      <td>64350</td>\n",
       "      <td>164350</td>\n",
       "      <td>Not selected</td>\n",
       "      <td>NaN</td>\n",
       "      <td>Lottery Draw 6</td>\n",
       "      <td>NaN</td>\n",
       "      <td>NaN</td>\n",
       "      <td>2008-07-14</td>\n",
       "      <td>2008-08-08</td>\n",
       "      <td>1974</td>\n",
       "      <td>...</td>\n",
       "      <td>No</td>\n",
       "      <td>Yes</td>\n",
       "      <td>No</td>\n",
       "      <td>No</td>\n",
       "      <td>No</td>\n",
       "      <td>2.0</td>\n",
       "      <td>3.0</td>\n",
       "      <td>3.0</td>\n",
       "      <td>6.0</td>\n",
       "      <td>True</td>\n",
       "    </tr>\n",
       "    <tr>\n",
       "      <th>1</th>\n",
       "      <td>55655</td>\n",
       "      <td>155655</td>\n",
       "      <td>Not selected</td>\n",
       "      <td>NaN</td>\n",
       "      <td>Lottery Draw 7</td>\n",
       "      <td>NaN</td>\n",
       "      <td>NaN</td>\n",
       "      <td>2008-08-12</td>\n",
       "      <td>2008-09-08</td>\n",
       "      <td>1987</td>\n",
       "      <td>...</td>\n",
       "      <td>Yes</td>\n",
       "      <td>No</td>\n",
       "      <td>No</td>\n",
       "      <td>No</td>\n",
       "      <td>No</td>\n",
       "      <td>2.0</td>\n",
       "      <td>1.0</td>\n",
       "      <td>1.0</td>\n",
       "      <td>2.0</td>\n",
       "      <td>False</td>\n",
       "    </tr>\n",
       "    <tr>\n",
       "      <th>2</th>\n",
       "      <td>20087</td>\n",
       "      <td>128134</td>\n",
       "      <td>Selected</td>\n",
       "      <td>Draw 6: selected in lottery 07/01/2008</td>\n",
       "      <td>Lottery Draw 6</td>\n",
       "      <td>Submitted an Application to OHP</td>\n",
       "      <td>No</td>\n",
       "      <td>2008-07-14</td>\n",
       "      <td>2008-08-08</td>\n",
       "      <td>1963</td>\n",
       "      <td>...</td>\n",
       "      <td>No</td>\n",
       "      <td>No</td>\n",
       "      <td>No</td>\n",
       "      <td>Yes</td>\n",
       "      <td>No</td>\n",
       "      <td>7.0</td>\n",
       "      <td>0.0</td>\n",
       "      <td>1.0</td>\n",
       "      <td>1.0</td>\n",
       "      <td>False</td>\n",
       "    </tr>\n",
       "    <tr>\n",
       "      <th>3</th>\n",
       "      <td>70998</td>\n",
       "      <td>170998</td>\n",
       "      <td>Not selected</td>\n",
       "      <td>NaN</td>\n",
       "      <td>Lottery Draw 7</td>\n",
       "      <td>NaN</td>\n",
       "      <td>NaN</td>\n",
       "      <td>2008-08-12</td>\n",
       "      <td>2008-09-08</td>\n",
       "      <td>1954</td>\n",
       "      <td>...</td>\n",
       "      <td>Yes</td>\n",
       "      <td>No</td>\n",
       "      <td>No</td>\n",
       "      <td>No</td>\n",
       "      <td>No</td>\n",
       "      <td>2.0</td>\n",
       "      <td>3.0</td>\n",
       "      <td>2.0</td>\n",
       "      <td>5.0</td>\n",
       "      <td>True</td>\n",
       "    </tr>\n",
       "    <tr>\n",
       "      <th>4</th>\n",
       "      <td>8839</td>\n",
       "      <td>108839</td>\n",
       "      <td>Selected</td>\n",
       "      <td>Draw 8: selected in lottery 09/02/2008</td>\n",
       "      <td>Lottery Draw 8</td>\n",
       "      <td>Did NOT submit an application to OHP</td>\n",
       "      <td>No</td>\n",
       "      <td>2008-09-11</td>\n",
       "      <td>2008-10-08</td>\n",
       "      <td>1964</td>\n",
       "      <td>...</td>\n",
       "      <td>No</td>\n",
       "      <td>No</td>\n",
       "      <td>Yes</td>\n",
       "      <td>No</td>\n",
       "      <td>No</td>\n",
       "      <td>4.0</td>\n",
       "      <td>2.0</td>\n",
       "      <td>2.0</td>\n",
       "      <td>4.0</td>\n",
       "      <td>True</td>\n",
       "    </tr>\n",
       "  </tbody>\n",
       "</table>\n",
       "<p>5 rows × 44 columns</p>\n",
       "</div>"
      ],
      "text/plain": [
       "   person_id  household_id     treatment  \\\n",
       "0      64350        164350  Not selected   \n",
       "1      55655        155655  Not selected   \n",
       "2      20087        128134      Selected   \n",
       "3      70998        170998  Not selected   \n",
       "4       8839        108839      Selected   \n",
       "\n",
       "                               draw_treat    draw_lottery  \\\n",
       "0                                     NaN  Lottery Draw 6   \n",
       "1                                     NaN  Lottery Draw 7   \n",
       "2  Draw 6: selected in lottery 07/01/2008  Lottery Draw 6   \n",
       "3                                     NaN  Lottery Draw 7   \n",
       "4  Draw 8: selected in lottery 09/02/2008  Lottery Draw 8   \n",
       "\n",
       "                            applied_app approved_app dt_notify_lottery  \\\n",
       "0                                   NaN          NaN        2008-07-14   \n",
       "1                                   NaN          NaN        2008-08-12   \n",
       "2       Submitted an Application to OHP           No        2008-07-14   \n",
       "3                                   NaN          NaN        2008-08-12   \n",
       "4  Did NOT submit an application to OHP           No        2008-09-11   \n",
       "\n",
       "  dt_retro_coverage  birthyear_list  ... live_partner_12m live_parents_12m  \\\n",
       "0        2008-08-08            1974  ...               No              Yes   \n",
       "1        2008-09-08            1987  ...              Yes               No   \n",
       "2        2008-08-08            1963  ...               No               No   \n",
       "3        2008-09-08            1954  ...              Yes               No   \n",
       "4        2008-10-08            1964  ...               No               No   \n",
       "\n",
       "   live_friends_12m live_relatives_12m live_other_12m hhsize_12m PHQ2_1  \\\n",
       "0                No                 No             No        2.0    3.0   \n",
       "1                No                 No             No        2.0    1.0   \n",
       "2                No                Yes             No        7.0    0.0   \n",
       "3                No                 No             No        2.0    3.0   \n",
       "4               Yes                 No             No        4.0    2.0   \n",
       "\n",
       "  PHQ2_2 PHQ2_sum PHQ2_cutoff  \n",
       "0    3.0      6.0        True  \n",
       "1    1.0      2.0       False  \n",
       "2    1.0      1.0       False  \n",
       "3    2.0      5.0        True  \n",
       "4    2.0      4.0        True  \n",
       "\n",
       "[5 rows x 44 columns]"
      ]
     },
     "execution_count": 3,
     "metadata": {},
     "output_type": "execute_result"
    }
   ],
   "source": [
    "OHIE = pd.read_csv('../Data/OHIE_12m.csv')\n",
    "OHIE.head()"
   ]
  },
  {
   "cell_type": "markdown",
   "id": "77b1b3a6-d992-4489-8eb7-6d67095a5d5a",
   "metadata": {},
   "source": [
    "### Orient on the dataset"
   ]
  },
  {
   "cell_type": "code",
   "execution_count": 7,
   "id": "22acc024-d9bb-4a65-99d8-2974152ac13c",
   "metadata": {},
   "outputs": [
    {
     "data": {
      "text/plain": [
       "(4000, 44)"
      ]
     },
     "execution_count": 7,
     "metadata": {},
     "output_type": "execute_result"
    }
   ],
   "source": [
    "# Orient on the dataset\n",
    "OHIE.shape"
   ]
  },
  {
   "cell_type": "code",
   "execution_count": 10,
   "id": "87e034d8-11b1-4347-945b-01e26b049034",
   "metadata": {
    "scrolled": true
   },
   "outputs": [
    {
     "name": "stdout",
     "output_type": "stream",
     "text": [
      "<class 'pandas.core.frame.DataFrame'>\n",
      "RangeIndex: 4000 entries, 0 to 3999\n",
      "Data columns (total 44 columns):\n",
      " #   Column               Non-Null Count  Dtype  \n",
      "---  ------               --------------  -----  \n",
      " 0   person_id            4000 non-null   int64  \n",
      " 1   household_id         4000 non-null   int64  \n",
      " 2   treatment            4000 non-null   object \n",
      " 3   draw_treat           2011 non-null   object \n",
      " 4   draw_lottery         4000 non-null   object \n",
      " 5   applied_app          2010 non-null   object \n",
      " 6   approved_app         2010 non-null   object \n",
      " 7   dt_notify_lottery    4000 non-null   object \n",
      " 8   dt_retro_coverage    4000 non-null   object \n",
      " 9   birthyear_list       4000 non-null   int64  \n",
      " 10  female_list          4000 non-null   object \n",
      " 11  ins_any_12m          3939 non-null   object \n",
      " 12  weight_12m           4000 non-null   float64\n",
      " 13  employ_12m           3868 non-null   object \n",
      " 14  edu_12m              3853 non-null   object \n",
      " 15  dep_sad_12m          3936 non-null   object \n",
      " 16  dep_interest_12m     3927 non-null   object \n",
      " 17  dep_rx_12m           3595 non-null   object \n",
      " 18  smk_curr_12m         3884 non-null   object \n",
      " 19  smk_ever_12m         3929 non-null   object \n",
      " 20  race_white_12m       4000 non-null   object \n",
      " 21  race_black_12m       4000 non-null   object \n",
      " 22  race_hisp_12m        3957 non-null   object \n",
      " 23  race_asian_12m       4000 non-null   object \n",
      " 24  race_amerindian_12m  4000 non-null   object \n",
      " 25  race_pacific_12m     4000 non-null   object \n",
      " 26  race_other_qn_12m    4000 non-null   object \n",
      " 27  chl_chk_12m          3936 non-null   object \n",
      " 28  dia_chk_12m          3935 non-null   object \n",
      " 29  mam_chk_12m          2391 non-null   object \n",
      " 30  pap_chk_12m          2391 non-null   object \n",
      " 31  hhinc_cat_12m        3790 non-null   object \n",
      " 32  hhinc_pctfpl_12m     3598 non-null   float64\n",
      " 33  live_alone_12m       3999 non-null   object \n",
      " 34  live_partner_12m     3999 non-null   object \n",
      " 35  live_parents_12m     4000 non-null   object \n",
      " 36  live_friends_12m     4000 non-null   object \n",
      " 37  live_relatives_12m   4000 non-null   object \n",
      " 38  live_other_12m       4000 non-null   object \n",
      " 39  hhsize_12m           3780 non-null   float64\n",
      " 40  PHQ2_1               3936 non-null   float64\n",
      " 41  PHQ2_2               3927 non-null   float64\n",
      " 42  PHQ2_sum             3895 non-null   float64\n",
      " 43  PHQ2_cutoff          3895 non-null   object \n",
      "dtypes: float64(6), int64(3), object(35)\n",
      "memory usage: 1.3+ MB\n"
     ]
    }
   ],
   "source": [
    "OHIE.info()"
   ]
  },
  {
   "cell_type": "markdown",
   "id": "c64ac740-09cb-42d5-83f0-97f9b190ddb0",
   "metadata": {},
   "source": [
    "### Recode variables using .replace"
   ]
  },
  {
   "cell_type": "code",
   "execution_count": 11,
   "id": "e3f77a83-739e-48fe-83db-826be7f1747d",
   "metadata": {},
   "outputs": [
    {
     "data": {
      "text/plain": [
       "0    Not selected\n",
       "1    Not selected\n",
       "2        Selected\n",
       "3    Not selected\n",
       "4        Selected\n",
       "Name: treatment, dtype: object"
      ]
     },
     "execution_count": 11,
     "metadata": {},
     "output_type": "execute_result"
    }
   ],
   "source": [
    "# Recoding variables using .replace\n",
    "# Treatment: not selected = 0 and selected = 1\n",
    "OHIE['treatment'].head()"
   ]
  },
  {
   "cell_type": "code",
   "execution_count": 13,
   "id": "9361010f-cd36-4e6b-8143-17955cadb992",
   "metadata": {},
   "outputs": [
    {
     "data": {
      "text/plain": [
       "0    0\n",
       "1    0\n",
       "2    1\n",
       "3    0\n",
       "4    1\n",
       "Name: treatment, dtype: int64"
      ]
     },
     "execution_count": 13,
     "metadata": {},
     "output_type": "execute_result"
    }
   ],
   "source": [
    "OHIE['treatment'] = OHIE['treatment'].replace({'Not selected':0, 'Selected':1}).astype(int)\n",
    "OHIE['treatment'].head()"
   ]
  },
  {
   "cell_type": "markdown",
   "id": "7d63a0b0-d920-4b2a-a2f2-3fd46e6b0a54",
   "metadata": {},
   "source": [
    "## Ordered categorical variables"
   ]
  },
  {
   "cell_type": "code",
   "execution_count": 36,
   "id": "021ab3a5-3f84-499f-b9a4-b2de1da446cb",
   "metadata": {},
   "outputs": [
    {
     "data": {
      "text/plain": [
       "0        4-year degree\n",
       "1    hs diploma or GED\n",
       "2    hs diploma or GED\n",
       "3    hs diploma or GED\n",
       "4    hs diploma or GED\n",
       "Name: edu_12m, dtype: object"
      ]
     },
     "execution_count": 36,
     "metadata": {},
     "output_type": "execute_result"
    }
   ],
   "source": [
    "OHIE['edu_12m'].head()"
   ]
  },
  {
   "cell_type": "code",
   "execution_count": 37,
   "id": "ef121294-a3b7-44a1-910d-05c02a92642d",
   "metadata": {},
   "outputs": [
    {
     "data": {
      "text/plain": [
       "edu_12m\n",
       "hs diploma or GED              1884\n",
       "vocational or 2-year degree     855\n",
       "less than hs                    665\n",
       "4-year degree                   449\n",
       "Name: count, dtype: int64"
      ]
     },
     "execution_count": 37,
     "metadata": {},
     "output_type": "execute_result"
    }
   ],
   "source": [
    "OHIE['edu_12m'].value_counts()"
   ]
  },
  {
   "cell_type": "code",
   "execution_count": 58,
   "id": "7378a37f-9c81-4594-bb2d-c3f3fb918221",
   "metadata": {},
   "outputs": [],
   "source": [
    "edu_order = ['less than hs', 'hs diploma or GED', 'vocational or 2-year degree', '4-year degree']"
   ]
  },
  {
   "cell_type": "code",
   "execution_count": 59,
   "id": "12b7ed98-d375-4764-9294-324d30d6037b",
   "metadata": {},
   "outputs": [
    {
     "data": {
      "text/plain": [
       "CategoricalDtype(categories=['less than hs', 'hs diploma or GED',\n",
       "                  'vocational or 2-year degree', '4-year degree'],\n",
       ", ordered=True, categories_dtype=object)"
      ]
     },
     "execution_count": 59,
     "metadata": {},
     "output_type": "execute_result"
    }
   ],
   "source": [
    "OHIE['EducationLevel'] = pd.Categorical(\n",
    "    OHIE['edu_12m'],\n",
    "    categories=edu_order,\n",
    "    ordered=True\n",
    ")\n",
    "OHIE['EducationLevel'].dtype"
   ]
  },
  {
   "cell_type": "code",
   "execution_count": 60,
   "id": "a1637064-0856-4960-ad94-709abad27af3",
   "metadata": {},
   "outputs": [
    {
     "data": {
      "text/html": [
       "<div>\n",
       "<style scoped>\n",
       "    .dataframe tbody tr th:only-of-type {\n",
       "        vertical-align: middle;\n",
       "    }\n",
       "\n",
       "    .dataframe tbody tr th {\n",
       "        vertical-align: top;\n",
       "    }\n",
       "\n",
       "    .dataframe thead th {\n",
       "        text-align: right;\n",
       "    }\n",
       "</style>\n",
       "<table border=\"1\" class=\"dataframe\">\n",
       "  <thead>\n",
       "    <tr style=\"text-align: right;\">\n",
       "      <th></th>\n",
       "      <th>edu_12m</th>\n",
       "      <th>EducationLevel</th>\n",
       "      <th>edu_num</th>\n",
       "    </tr>\n",
       "  </thead>\n",
       "  <tbody>\n",
       "    <tr>\n",
       "      <th>0</th>\n",
       "      <td>4-year degree</td>\n",
       "      <td>4-year degree</td>\n",
       "      <td>3</td>\n",
       "    </tr>\n",
       "    <tr>\n",
       "      <th>1</th>\n",
       "      <td>hs diploma or GED</td>\n",
       "      <td>hs diploma or GED</td>\n",
       "      <td>1</td>\n",
       "    </tr>\n",
       "    <tr>\n",
       "      <th>2</th>\n",
       "      <td>hs diploma or GED</td>\n",
       "      <td>hs diploma or GED</td>\n",
       "      <td>1</td>\n",
       "    </tr>\n",
       "    <tr>\n",
       "      <th>3</th>\n",
       "      <td>hs diploma or GED</td>\n",
       "      <td>hs diploma or GED</td>\n",
       "      <td>1</td>\n",
       "    </tr>\n",
       "    <tr>\n",
       "      <th>4</th>\n",
       "      <td>hs diploma or GED</td>\n",
       "      <td>hs diploma or GED</td>\n",
       "      <td>1</td>\n",
       "    </tr>\n",
       "    <tr>\n",
       "      <th>5</th>\n",
       "      <td>hs diploma or GED</td>\n",
       "      <td>hs diploma or GED</td>\n",
       "      <td>1</td>\n",
       "    </tr>\n",
       "    <tr>\n",
       "      <th>6</th>\n",
       "      <td>hs diploma or GED</td>\n",
       "      <td>hs diploma or GED</td>\n",
       "      <td>1</td>\n",
       "    </tr>\n",
       "    <tr>\n",
       "      <th>7</th>\n",
       "      <td>4-year degree</td>\n",
       "      <td>4-year degree</td>\n",
       "      <td>3</td>\n",
       "    </tr>\n",
       "    <tr>\n",
       "      <th>8</th>\n",
       "      <td>less than hs</td>\n",
       "      <td>less than hs</td>\n",
       "      <td>0</td>\n",
       "    </tr>\n",
       "    <tr>\n",
       "      <th>9</th>\n",
       "      <td>hs diploma or GED</td>\n",
       "      <td>hs diploma or GED</td>\n",
       "      <td>1</td>\n",
       "    </tr>\n",
       "  </tbody>\n",
       "</table>\n",
       "</div>"
      ],
      "text/plain": [
       "             edu_12m     EducationLevel  edu_num\n",
       "0      4-year degree      4-year degree        3\n",
       "1  hs diploma or GED  hs diploma or GED        1\n",
       "2  hs diploma or GED  hs diploma or GED        1\n",
       "3  hs diploma or GED  hs diploma or GED        1\n",
       "4  hs diploma or GED  hs diploma or GED        1\n",
       "5  hs diploma or GED  hs diploma or GED        1\n",
       "6  hs diploma or GED  hs diploma or GED        1\n",
       "7      4-year degree      4-year degree        3\n",
       "8       less than hs       less than hs        0\n",
       "9  hs diploma or GED  hs diploma or GED        1"
      ]
     },
     "execution_count": 60,
     "metadata": {},
     "output_type": "execute_result"
    }
   ],
   "source": [
    "OHIE['edu_num'] = OHIE['EducationLevel'].cat.codes\n",
    "OHIE[['edu_12m','EducationLevel','edu_num']].head(10)"
   ]
  },
  {
   "cell_type": "markdown",
   "id": "0b6bfb81-484a-4a06-85ff-cdc79564925b",
   "metadata": {},
   "source": [
    "### Renaming columns"
   ]
  },
  {
   "cell_type": "code",
   "execution_count": 32,
   "id": "7390efba-699f-4014-8979-78b5b839b188",
   "metadata": {},
   "outputs": [
    {
     "data": {
      "text/plain": [
       "Index(['person_id', 'household_id', 'treatment', 'draw_treat', 'draw_lottery',\n",
       "       'applied_app', 'approved_app', 'dt_notify_lottery', 'dt_retro_coverage',\n",
       "       'birthyear_list', 'female_list', 'ins_any_12m', 'weight_12m',\n",
       "       'employ_12m', 'edu_12m', 'dep_sad_12m', 'dep_interest_12m',\n",
       "       'dep_rx_12m', 'smk_curr_12m', 'smk_ever_12m', 'race_white_12m',\n",
       "       'race_black_12m', 'race_hisp_12m', 'race_asian_12m',\n",
       "       'race_amerindian_12m', 'race_pacific_12m', 'race_other_qn_12m',\n",
       "       'chl_chk_12m', 'dia_chk_12m', 'mam_chk_12m', 'pap_chk_12m',\n",
       "       'hhinc_cat_12m', 'hhinc_pctfpl_12m', 'live_alone_12m',\n",
       "       'live_partner_12m', 'live_parents_12m', 'live_friends_12m',\n",
       "       'live_relatives_12m', 'live_other_12m', 'hhsize_12m', 'PHQ2_1',\n",
       "       'PHQ2_2', 'PHQ2_sum', 'PHQ2_cutoff'],\n",
       "      dtype='object')"
      ]
     },
     "execution_count": 32,
     "metadata": {},
     "output_type": "execute_result"
    }
   ],
   "source": [
    "OHIE.columns"
   ]
  },
  {
   "cell_type": "code",
   "execution_count": 33,
   "id": "0f4cff45-e9ef-4fec-96ce-c98078529f29",
   "metadata": {},
   "outputs": [
    {
     "data": {
      "text/plain": [
       "Index(['person_id', 'household_id', 'treatment', 'draw_treat', 'draw_lottery',\n",
       "       'applied_app', 'approved_app', 'dt_notify_lottery', 'dt_retro_coverage',\n",
       "       'birthyear_list', 'sex', 'ins_any_12m', 'weight_12m', 'employ_12m',\n",
       "       'edu_12m', 'dep_sad_12m', 'dep_interest_12m', 'dep_rx_12m',\n",
       "       'smk_curr_12m', 'smk_ever_12m', 'race_white_12m', 'race_black_12m',\n",
       "       'race_hisp_12m', 'race_asian_12m', 'race_amerindian_12m',\n",
       "       'race_pacific_12m', 'race_other_qn_12m', 'chl_chk_12m', 'dia_chk_12m',\n",
       "       'mam_chk_12m', 'pap_chk_12m', 'hhinc_cat_12m', 'hhinc_pctfpl_12m',\n",
       "       'live_alone_12m', 'live_partner_12m', 'live_parents_12m',\n",
       "       'live_friends_12m', 'live_relatives_12m', 'live_other_12m',\n",
       "       'hhsize_12m', 'PHQ2_1', 'PHQ2_2', 'PHQ2_sum', 'PHQ2_cutoff'],\n",
       "      dtype='object')"
      ]
     },
     "execution_count": 33,
     "metadata": {},
     "output_type": "execute_result"
    }
   ],
   "source": [
    "OHIE = OHIE.rename(columns={\n",
    "    'female_list': 'sex'\n",
    "})\n",
    "OHIE.columns"
   ]
  }
 ],
 "metadata": {
  "kernelspec": {
   "display_name": "Python 3 (ipykernel)",
   "language": "python",
   "name": "python3"
  },
  "language_info": {
   "codemirror_mode": {
    "name": "ipython",
    "version": 3
   },
   "file_extension": ".py",
   "mimetype": "text/x-python",
   "name": "python",
   "nbconvert_exporter": "python",
   "pygments_lexer": "ipython3",
   "version": "3.13.2"
  }
 },
 "nbformat": 4,
 "nbformat_minor": 5
}
