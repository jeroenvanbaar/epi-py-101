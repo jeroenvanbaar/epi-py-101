{
 "cells": [
  {
   "cell_type": "markdown",
   "id": "35439e79",
   "metadata": {},
   "source": [
    "# 🧠 Lecture 2.4: Recoding and Renaming Variables in Pandas\n",
    "\n",
    "### Learning Objectives\n",
    "By the end of this 15-minute lecture, you will:\n",
    "- Know how to recode values using `.replace()` and `.map()`\n",
    "- Learn to rename columns for clarity using `.rename()`\n",
    "- Understand how and why to use `pd.Categorical` for ordered factors\n"
   ]
  },
  {
   "cell_type": "code",
   "execution_count": null,
   "id": "57963181",
   "metadata": {},
   "outputs": [],
   "source": [
    "import pandas as pd\n",
    "\n",
    "# Sample dataset\n",
    "df = pd.DataFrame({\n",
    "    'sex': [0, 1, 1, 0],\n",
    "    'smoker': [1, 0, 0, 1],\n",
    "    'edu': [1, 2, 3, 4]\n",
    "})\n",
    "\n",
    "df.head()\n"
   ]
  },
  {
   "cell_type": "markdown",
   "id": "10c0c049",
   "metadata": {},
   "source": [
    "## 🔁 Recoding values using `.replace()`"
   ]
  },
  {
   "cell_type": "code",
   "execution_count": null,
   "id": "b5cda186",
   "metadata": {},
   "outputs": [],
   "source": [
    "# 0 = Female, 1 = Male\n",
    "df['sex'] = df['sex'].replace({0: 'Female', 1: 'Male'})\n",
    "\n",
    "# 0 = No, 1 = Yes\n",
    "df['smoker'] = df['smoker'].replace({0: 'No', 1: 'Yes'})\n",
    "\n",
    "df\n"
   ]
  },
  {
   "cell_type": "markdown",
   "id": "f742cdf4",
   "metadata": {},
   "source": [
    "## 🔁 Recoding values using `.map()` (alternative)"
   ]
  },
  {
   "cell_type": "code",
   "execution_count": null,
   "id": "e8f1d348",
   "metadata": {},
   "outputs": [],
   "source": [
    "# This does the same thing, but map only works on Series\n",
    "df['sex'] = df['sex'].map({'Female': 'F', 'Male': 'M'})\n",
    "df\n"
   ]
  },
  {
   "cell_type": "markdown",
   "id": "84ac659c",
   "metadata": {},
   "source": [
    "## ✏️ Renaming columns"
   ]
  },
  {
   "cell_type": "code",
   "execution_count": null,
   "id": "4a26a14b",
   "metadata": {},
   "outputs": [],
   "source": [
    "df = df.rename(columns={\n",
    "    'sex': 'Sex',\n",
    "    'smoker': 'SmokerStatus',\n",
    "    'edu': 'EducationLevel'\n",
    "})\n",
    "df\n"
   ]
  },
  {
   "cell_type": "markdown",
   "id": "650a44f4",
   "metadata": {},
   "source": [
    "## 🗂 Using `pd.Categorical` for ordered categories"
   ]
  },
  {
   "cell_type": "code",
   "execution_count": null,
   "id": "63f3d34c",
   "metadata": {},
   "outputs": [],
   "source": [
    "# Suppose EducationLevel is 1=Primary, 2=Secondary, 3=College, 4=Graduate\n",
    "edu_order = ['Primary', 'Secondary', 'College', 'Graduate']\n",
    "\n",
    "df['EducationLevel'] = pd.Categorical(\n",
    "    df['EducationLevel'].map({1: 'Primary', 2: 'Secondary', 3: 'College', 4: 'Graduate'}),\n",
    "    categories=edu_order,\n",
    "    ordered=True\n",
    ")\n",
    "\n",
    "df.dtypes\n"
   ]
  },
  {
   "cell_type": "markdown",
   "id": "97d62253",
   "metadata": {},
   "source": [
    "## ✅ Summary\n",
    "- Use `.replace()` and `.map()` to recode variable values\n",
    "- Use `.rename()` to clean up column names\n",
    "- Use `pd.Categorical` to specify ordering and levels of categorical variables\n",
    "\n",
    "👉 These tools are essential for cleaning and preparing survey or registry data for analysis.\n"
   ]
  }
 ],
 "metadata": {
  "kernelspec": {
   "display_name": "Python 3 (ipykernel)",
   "language": "python",
   "name": "python3"
  },
  "language_info": {
   "codemirror_mode": {
    "name": "ipython",
    "version": 3
   },
   "file_extension": ".py",
   "mimetype": "text/x-python",
   "name": "python",
   "nbconvert_exporter": "python",
   "pygments_lexer": "ipython3",
   "version": "3.13.2"
  }
 },
 "nbformat": 4,
 "nbformat_minor": 5
}
